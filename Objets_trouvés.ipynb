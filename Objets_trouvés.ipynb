{
  "nbformat": 4,
  "nbformat_minor": 0,
  "metadata": {
    "colab": {
      "name": "Objets trouvés.ipynb",
      "provenance": [],
      "collapsed_sections": [],
      "authorship_tag": "ABX9TyMMk21LbGZXiQVJM0PWQJlU",
      "include_colab_link": true
    },
    "kernelspec": {
      "name": "python3",
      "display_name": "Python 3"
    }
  },
  "cells": [
    {
      "cell_type": "markdown",
      "metadata": {
        "id": "view-in-github",
        "colab_type": "text"
      },
      "source": [
        "<a href=\"https://colab.research.google.com/github/Sylvariane/objets_trouves_sncf/blob/master/Objets_trouv%C3%A9s.ipynb\" target=\"_parent\"><img src=\"https://colab.research.google.com/assets/colab-badge.svg\" alt=\"Open In Colab\"/></a>"
      ]
    },
    {
      "cell_type": "markdown",
      "metadata": {
        "id": "EPS4jtO35Kar",
        "colab_type": "text"
      },
      "source": [
        "# Analyse des objets trouvés dans les trains"
      ]
    },
    {
      "cell_type": "markdown",
      "metadata": {
        "id": "sE7vWx1a5Ir9",
        "colab_type": "text"
      },
      "source": [
        "Lorsque l'on voyage, on peut être parfois étourdi et cela mène à des pertes d'objets. Je me suis demandée quelles sont les objets les plus oubliés dans le train. Je pense que pour certains l'oubli du portefeuille ou de la veste est chose courante et pour d'autres c'est carrément la valise. La fameuse valise qui constitue un bagage oublié et qui dans certains cas peut conduire à de longs arrêts pour vérifier qu'il n'est pas dangereux. Plongeons dans les données disponibles sur le site : www.data.sncf.com pour en savoir plus. "
      ]
    },
    {
      "cell_type": "markdown",
      "metadata": {
        "id": "zx2vHe4SaOBn",
        "colab_type": "text"
      },
      "source": [
        "## 0. Installation de l'environnement de travail"
      ]
    },
    {
      "cell_type": "markdown",
      "metadata": {
        "id": "Of53DyajaVqX",
        "colab_type": "text"
      },
      "source": [
        "Avant de commencer notre analyse, il faut débuter par la mise en place de notre environnement de travail. Je commence par me connecter à Google Drive pour pouvoir ouvrir les fichiers dont je vais avoir besoin mais aussi pour exporter ceux que je vais créer. "
      ]
    },
    {
      "cell_type": "code",
      "metadata": {
        "id": "BCudB7RN51bH",
        "colab_type": "code",
        "colab": {
          "base_uri": "https://localhost:8080/",
          "height": 35
        },
        "outputId": "0489f30a-92be-4c2f-b353-ff21683f76b0"
      },
      "source": [
        "# connexion à Google Drive pour importer le fichier\n",
        "from google.colab import drive\n",
        "drive.mount('/content/drive')\n",
        "dir= '/content/drive/My Drive/Formation Data Analyst/Projets personnels/Objets trouvés - SNCF/'"
      ],
      "execution_count": 1,
      "outputs": [
        {
          "output_type": "stream",
          "text": [
            "Drive already mounted at /content/drive; to attempt to forcibly remount, call drive.mount(\"/content/drive\", force_remount=True).\n"
          ],
          "name": "stdout"
        }
      ]
    },
    {
      "cell_type": "markdown",
      "metadata": {
        "id": "2I4OnJl4alFy",
        "colab_type": "text"
      },
      "source": [
        "Une fois la connexion avec Google Drive effectuée, j'importe les différents modules nécessaires à l'analyse en leur affectant des alias pour que cela soit plus simple de les appeler dans mes commandes Python. "
      ]
    },
    {
      "cell_type": "code",
      "metadata": {
        "id": "7OWqDhFG52j2",
        "colab_type": "code",
        "colab": {
          "base_uri": "https://localhost:8080/",
          "height": 73
        },
        "outputId": "2c6be2a5-0782-4667-9149-1454d247433c"
      },
      "source": [
        "import pandas as pd\n",
        "import numpy as np\n",
        "import datetime as dt\n",
        "\n",
        "import matplotlib.pyplot as plt\n",
        "import seaborn as sns\n",
        "\n",
        "import datetime as dt"
      ],
      "execution_count": 2,
      "outputs": [
        {
          "output_type": "stream",
          "text": [
            "/usr/local/lib/python3.6/dist-packages/statsmodels/tools/_testing.py:19: FutureWarning: pandas.util.testing is deprecated. Use the functions in the public API at pandas.testing instead.\n",
            "  import pandas.util.testing as tm\n"
          ],
          "name": "stderr"
        }
      ]
    },
    {
      "cell_type": "markdown",
      "metadata": {
        "id": "UCOMXfxCazIm",
        "colab_type": "text"
      },
      "source": [
        "Enfin, je crée un premier objet de type DataFrame df qui va contenir le fichier csv que j'ai téléchargé sur le site data.sncf.com."
      ]
    },
    {
      "cell_type": "code",
      "metadata": {
        "id": "MehkwuGM59q5",
        "colab_type": "code",
        "colab": {}
      },
      "source": [
        "path = '/content/drive/My Drive/Formation Data Analyst/Projets personnels/Objets trouvés - SNCF/objets-trouves-restitution.csv'\n",
        "df = pd.read_csv(path, sep=';')"
      ],
      "execution_count": 3,
      "outputs": []
    },
    {
      "cell_type": "markdown",
      "metadata": {
        "id": "Og68EFZA6OVl",
        "colab_type": "text"
      },
      "source": [
        "## 1. Nettoyage des données"
      ]
    },
    {
      "cell_type": "markdown",
      "metadata": {
        "id": "Q44qts5FbBAe",
        "colab_type": "text"
      },
      "source": [
        "Toute analyse débute par une partie de nettoyage des données. On affiche les premières lignes du dataFrame pour voir la manière dont il est constitué."
      ]
    },
    {
      "cell_type": "code",
      "metadata": {
        "id": "sJtQIpei6XDl",
        "colab_type": "code",
        "colab": {
          "base_uri": "https://localhost:8080/",
          "height": 275
        },
        "outputId": "6dda00ba-ba38-416f-e891-24844b4b1735"
      },
      "source": [
        "df.head()"
      ],
      "execution_count": 4,
      "outputs": [
        {
          "output_type": "execute_result",
          "data": {
            "text/html": [
              "<div>\n",
              "<style scoped>\n",
              "    .dataframe tbody tr th:only-of-type {\n",
              "        vertical-align: middle;\n",
              "    }\n",
              "\n",
              "    .dataframe tbody tr th {\n",
              "        vertical-align: top;\n",
              "    }\n",
              "\n",
              "    .dataframe thead th {\n",
              "        text-align: right;\n",
              "    }\n",
              "</style>\n",
              "<table border=\"1\" class=\"dataframe\">\n",
              "  <thead>\n",
              "    <tr style=\"text-align: right;\">\n",
              "      <th></th>\n",
              "      <th>Date</th>\n",
              "      <th>Date et heure de restitution</th>\n",
              "      <th>Gare</th>\n",
              "      <th>Code UIC</th>\n",
              "      <th>Nature d'objets</th>\n",
              "      <th>Type d'objets</th>\n",
              "      <th>Type d'enregistrement</th>\n",
              "    </tr>\n",
              "  </thead>\n",
              "  <tbody>\n",
              "    <tr>\n",
              "      <th>0</th>\n",
              "      <td>2018-01-23T14:33:43+01:00</td>\n",
              "      <td>NaN</td>\n",
              "      <td>Bourges</td>\n",
              "      <td>87576207.0</td>\n",
              "      <td>Autres divers (préciser)</td>\n",
              "      <td>Divers</td>\n",
              "      <td>Objet trouvé</td>\n",
              "    </tr>\n",
              "    <tr>\n",
              "      <th>1</th>\n",
              "      <td>2014-03-10T09:07:15+01:00</td>\n",
              "      <td>NaN</td>\n",
              "      <td>Toulouse Matabiau</td>\n",
              "      <td>87611004.0</td>\n",
              "      <td>Sac de voyage, sac de sport, sac à bandoulière</td>\n",
              "      <td>Bagagerie: sacs, valises, cartables</td>\n",
              "      <td>Objet trouvé</td>\n",
              "    </tr>\n",
              "    <tr>\n",
              "      <th>2</th>\n",
              "      <td>2014-02-06T08:45:32+01:00</td>\n",
              "      <td>NaN</td>\n",
              "      <td>Toulouse Matabiau</td>\n",
              "      <td>87611004.0</td>\n",
              "      <td>Sac à dos</td>\n",
              "      <td>Bagagerie: sacs, valises, cartables</td>\n",
              "      <td>Objet trouvé</td>\n",
              "    </tr>\n",
              "    <tr>\n",
              "      <th>3</th>\n",
              "      <td>2014-03-10T09:14:38+01:00</td>\n",
              "      <td>NaN</td>\n",
              "      <td>Paris Est</td>\n",
              "      <td>87113001.0</td>\n",
              "      <td>Manteau, veste, blazer, parka, blouson, cape</td>\n",
              "      <td>Vêtements, chaussures</td>\n",
              "      <td>Objet trouvé</td>\n",
              "    </tr>\n",
              "    <tr>\n",
              "      <th>4</th>\n",
              "      <td>2014-02-06T09:01:24+01:00</td>\n",
              "      <td>2014-02-07T20:55:39+01:00</td>\n",
              "      <td>Paris Est</td>\n",
              "      <td>87113001.0</td>\n",
              "      <td>Valise, sac sur roulettes</td>\n",
              "      <td>Bagagerie: sacs, valises, cartables</td>\n",
              "      <td>Objet trouvé</td>\n",
              "    </tr>\n",
              "  </tbody>\n",
              "</table>\n",
              "</div>"
            ],
            "text/plain": [
              "                        Date  ... Type d'enregistrement\n",
              "0  2018-01-23T14:33:43+01:00  ...          Objet trouvé\n",
              "1  2014-03-10T09:07:15+01:00  ...          Objet trouvé\n",
              "2  2014-02-06T08:45:32+01:00  ...          Objet trouvé\n",
              "3  2014-03-10T09:14:38+01:00  ...          Objet trouvé\n",
              "4  2014-02-06T09:01:24+01:00  ...          Objet trouvé\n",
              "\n",
              "[5 rows x 7 columns]"
            ]
          },
          "metadata": {
            "tags": []
          },
          "execution_count": 4
        }
      ]
    },
    {
      "cell_type": "code",
      "metadata": {
        "id": "p5MnEDHs250s",
        "colab_type": "code",
        "colab": {
          "base_uri": "https://localhost:8080/",
          "height": 35
        },
        "outputId": "c2d32029-dd6a-43a1-f845-74b9b0572e9b"
      },
      "source": [
        "df.shape"
      ],
      "execution_count": 5,
      "outputs": [
        {
          "output_type": "execute_result",
          "data": {
            "text/plain": [
              "(681307, 7)"
            ]
          },
          "metadata": {
            "tags": []
          },
          "execution_count": 5
        }
      ]
    },
    {
      "cell_type": "markdown",
      "metadata": {
        "id": "1kFYnAE5hFrD",
        "colab_type": "text"
      },
      "source": [
        "On a donc les données en lien avec la date d'enregistrement de l'objet, la date et l'heure de la restitution, la gare, le code UIC associé à la Gare, la nature de l'objet, le type d'objets et le type d'enregistrement."
      ]
    },
    {
      "cell_type": "code",
      "metadata": {
        "id": "wmCqbFO98-AK",
        "colab_type": "code",
        "colab": {
          "base_uri": "https://localhost:8080/",
          "height": 162
        },
        "outputId": "363839b5-59bc-4a90-dbaa-01bb80645ac2"
      },
      "source": [
        "df.isna().sum()"
      ],
      "execution_count": 6,
      "outputs": [
        {
          "output_type": "execute_result",
          "data": {
            "text/plain": [
              "Date                                 0\n",
              "Date et heure de restitution    476015\n",
              "Gare                               295\n",
              "Code UIC                           295\n",
              "Nature d'objets                      0\n",
              "Type d'objets                        0\n",
              "Type d'enregistrement                0\n",
              "dtype: int64"
            ]
          },
          "metadata": {
            "tags": []
          },
          "execution_count": 6
        }
      ]
    },
    {
      "cell_type": "markdown",
      "metadata": {
        "id": "XoONLfgk85bL",
        "colab_type": "text"
      },
      "source": [
        "On observe qu'il y 476015 données manquantes concernant les dates et heure de restitution des objets mais en réalité, il s'agit d'objet qui n'ont pas été récupéré. Il manque aussi 295 données sur la gare où se trouve l'objet et le code UIC. Le code UIC est lié à la gare, il s'agit du code d'identification de la gare. Le choix de supprimer le code UIC a été fait."
      ]
    },
    {
      "cell_type": "code",
      "metadata": {
        "id": "6sMUR66iYICj",
        "colab_type": "code",
        "colab": {}
      },
      "source": [
        "df = df.drop(columns='Code UIC')"
      ],
      "execution_count": 7,
      "outputs": []
    },
    {
      "cell_type": "markdown",
      "metadata": {
        "id": "7Dn5Vw-h0d1X",
        "colab_type": "text"
      },
      "source": [
        "Concernant les données où il n'y avait pas de date de restitution, j'ai remplacé la valeur NaN par Non."
      ]
    },
    {
      "cell_type": "code",
      "metadata": {
        "id": "N05K6jaghe7B",
        "colab_type": "code",
        "colab": {
          "base_uri": "https://localhost:8080/",
          "height": 206
        },
        "outputId": "34d867c7-5eb8-4c8d-a9aa-aa1dd9cb590f"
      },
      "source": [
        "df['Date et heure de restitution'] = df.replace(np.nan, 'Non')\n",
        "df.head()"
      ],
      "execution_count": 8,
      "outputs": [
        {
          "output_type": "execute_result",
          "data": {
            "text/html": [
              "<div>\n",
              "<style scoped>\n",
              "    .dataframe tbody tr th:only-of-type {\n",
              "        vertical-align: middle;\n",
              "    }\n",
              "\n",
              "    .dataframe tbody tr th {\n",
              "        vertical-align: top;\n",
              "    }\n",
              "\n",
              "    .dataframe thead th {\n",
              "        text-align: right;\n",
              "    }\n",
              "</style>\n",
              "<table border=\"1\" class=\"dataframe\">\n",
              "  <thead>\n",
              "    <tr style=\"text-align: right;\">\n",
              "      <th></th>\n",
              "      <th>Date</th>\n",
              "      <th>Date et heure de restitution</th>\n",
              "      <th>Gare</th>\n",
              "      <th>Nature d'objets</th>\n",
              "      <th>Type d'objets</th>\n",
              "      <th>Type d'enregistrement</th>\n",
              "    </tr>\n",
              "  </thead>\n",
              "  <tbody>\n",
              "    <tr>\n",
              "      <th>0</th>\n",
              "      <td>2018-01-23T14:33:43+01:00</td>\n",
              "      <td>2018-01-23T14:33:43+01:00</td>\n",
              "      <td>Bourges</td>\n",
              "      <td>Autres divers (préciser)</td>\n",
              "      <td>Divers</td>\n",
              "      <td>Objet trouvé</td>\n",
              "    </tr>\n",
              "    <tr>\n",
              "      <th>1</th>\n",
              "      <td>2014-03-10T09:07:15+01:00</td>\n",
              "      <td>2014-03-10T09:07:15+01:00</td>\n",
              "      <td>Toulouse Matabiau</td>\n",
              "      <td>Sac de voyage, sac de sport, sac à bandoulière</td>\n",
              "      <td>Bagagerie: sacs, valises, cartables</td>\n",
              "      <td>Objet trouvé</td>\n",
              "    </tr>\n",
              "    <tr>\n",
              "      <th>2</th>\n",
              "      <td>2014-02-06T08:45:32+01:00</td>\n",
              "      <td>2014-02-06T08:45:32+01:00</td>\n",
              "      <td>Toulouse Matabiau</td>\n",
              "      <td>Sac à dos</td>\n",
              "      <td>Bagagerie: sacs, valises, cartables</td>\n",
              "      <td>Objet trouvé</td>\n",
              "    </tr>\n",
              "    <tr>\n",
              "      <th>3</th>\n",
              "      <td>2014-03-10T09:14:38+01:00</td>\n",
              "      <td>2014-03-10T09:14:38+01:00</td>\n",
              "      <td>Paris Est</td>\n",
              "      <td>Manteau, veste, blazer, parka, blouson, cape</td>\n",
              "      <td>Vêtements, chaussures</td>\n",
              "      <td>Objet trouvé</td>\n",
              "    </tr>\n",
              "    <tr>\n",
              "      <th>4</th>\n",
              "      <td>2014-02-06T09:01:24+01:00</td>\n",
              "      <td>2014-02-06T09:01:24+01:00</td>\n",
              "      <td>Paris Est</td>\n",
              "      <td>Valise, sac sur roulettes</td>\n",
              "      <td>Bagagerie: sacs, valises, cartables</td>\n",
              "      <td>Objet trouvé</td>\n",
              "    </tr>\n",
              "  </tbody>\n",
              "</table>\n",
              "</div>"
            ],
            "text/plain": [
              "                        Date  ... Type d'enregistrement\n",
              "0  2018-01-23T14:33:43+01:00  ...          Objet trouvé\n",
              "1  2014-03-10T09:07:15+01:00  ...          Objet trouvé\n",
              "2  2014-02-06T08:45:32+01:00  ...          Objet trouvé\n",
              "3  2014-03-10T09:14:38+01:00  ...          Objet trouvé\n",
              "4  2014-02-06T09:01:24+01:00  ...          Objet trouvé\n",
              "\n",
              "[5 rows x 6 columns]"
            ]
          },
          "metadata": {
            "tags": []
          },
          "execution_count": 8
        }
      ]
    },
    {
      "cell_type": "code",
      "metadata": {
        "id": "f93knR8tSc1t",
        "colab_type": "code",
        "colab": {
          "base_uri": "https://localhost:8080/",
          "height": 144
        },
        "outputId": "62a4f6d3-1fb6-4497-b50d-d1374a7933d2"
      },
      "source": [
        "df.isna().sum()"
      ],
      "execution_count": 9,
      "outputs": [
        {
          "output_type": "execute_result",
          "data": {
            "text/plain": [
              "Date                              0\n",
              "Date et heure de restitution      0\n",
              "Gare                            295\n",
              "Nature d'objets                   0\n",
              "Type d'objets                     0\n",
              "Type d'enregistrement             0\n",
              "dtype: int64"
            ]
          },
          "metadata": {
            "tags": []
          },
          "execution_count": 9
        }
      ]
    },
    {
      "cell_type": "markdown",
      "metadata": {
        "id": "RN948tid1yXa",
        "colab_type": "text"
      },
      "source": [
        "Après l'inspection visuelle des premières lignes, il faut chercher des informations sur les données dupliquées dans notre jeu de données."
      ]
    },
    {
      "cell_type": "code",
      "metadata": {
        "id": "_ve5eZ7z9hje",
        "colab_type": "code",
        "colab": {
          "base_uri": "https://localhost:8080/",
          "height": 580
        },
        "outputId": "d10a4eb7-97e0-4b11-9afb-20e37a29c669"
      },
      "source": [
        "duplicated = df.duplicated()\n",
        "df[duplicated]"
      ],
      "execution_count": 10,
      "outputs": [
        {
          "output_type": "execute_result",
          "data": {
            "text/html": [
              "<div>\n",
              "<style scoped>\n",
              "    .dataframe tbody tr th:only-of-type {\n",
              "        vertical-align: middle;\n",
              "    }\n",
              "\n",
              "    .dataframe tbody tr th {\n",
              "        vertical-align: top;\n",
              "    }\n",
              "\n",
              "    .dataframe thead th {\n",
              "        text-align: right;\n",
              "    }\n",
              "</style>\n",
              "<table border=\"1\" class=\"dataframe\">\n",
              "  <thead>\n",
              "    <tr style=\"text-align: right;\">\n",
              "      <th></th>\n",
              "      <th>Date</th>\n",
              "      <th>Date et heure de restitution</th>\n",
              "      <th>Gare</th>\n",
              "      <th>Nature d'objets</th>\n",
              "      <th>Type d'objets</th>\n",
              "      <th>Type d'enregistrement</th>\n",
              "    </tr>\n",
              "  </thead>\n",
              "  <tbody>\n",
              "    <tr>\n",
              "      <th>6523</th>\n",
              "      <td>2018-05-16T19:09:01+02:00</td>\n",
              "      <td>2018-05-16T19:09:01+02:00</td>\n",
              "      <td>Paris Montparnasse</td>\n",
              "      <td>Téléphone portable protégé (étui, coque,…)</td>\n",
              "      <td>Appareils électroniques, informatiques, appare...</td>\n",
              "      <td>Objet trouvé</td>\n",
              "    </tr>\n",
              "    <tr>\n",
              "      <th>8604</th>\n",
              "      <td>2018-06-13T13:10:45+02:00</td>\n",
              "      <td>2018-06-13T13:10:45+02:00</td>\n",
              "      <td>Aéroport Charles de Gaulle 2 TGV</td>\n",
              "      <td>Pièce d'identité personnelle et autre</td>\n",
              "      <td>Pièces d'identités et papiers personnels</td>\n",
              "      <td>Objet trouvé</td>\n",
              "    </tr>\n",
              "    <tr>\n",
              "      <th>16881</th>\n",
              "      <td>2019-04-14T15:09:23+02:00</td>\n",
              "      <td>2019-04-14T15:09:23+02:00</td>\n",
              "      <td>Aéroport Charles de Gaulle 2 TGV</td>\n",
              "      <td>Valise, sac sur roulettes</td>\n",
              "      <td>Bagagerie: sacs, valises, cartables</td>\n",
              "      <td>Objet trouvé</td>\n",
              "    </tr>\n",
              "    <tr>\n",
              "      <th>20737</th>\n",
              "      <td>2018-09-07T19:12:51+02:00</td>\n",
              "      <td>2018-09-07T19:12:51+02:00</td>\n",
              "      <td>Bordeaux Saint-Jean</td>\n",
              "      <td>Manteau, veste, blazer, parka, blouson, cape</td>\n",
              "      <td>Vêtements, chaussures</td>\n",
              "      <td>Objet trouvé</td>\n",
              "    </tr>\n",
              "    <tr>\n",
              "      <th>23152</th>\n",
              "      <td>2018-06-08T12:25:43+02:00</td>\n",
              "      <td>2018-06-08T12:25:43+02:00</td>\n",
              "      <td>Marseille Saint-Charles</td>\n",
              "      <td>Téléphone portable</td>\n",
              "      <td>Appareils électroniques, informatiques, appare...</td>\n",
              "      <td>Objet trouvé</td>\n",
              "    </tr>\n",
              "    <tr>\n",
              "      <th>...</th>\n",
              "      <td>...</td>\n",
              "      <td>...</td>\n",
              "      <td>...</td>\n",
              "      <td>...</td>\n",
              "      <td>...</td>\n",
              "      <td>...</td>\n",
              "    </tr>\n",
              "    <tr>\n",
              "      <th>681245</th>\n",
              "      <td>2020-08-13T14:18:08+02:00</td>\n",
              "      <td>2020-08-13T14:18:08+02:00</td>\n",
              "      <td>Bordeaux Saint-Jean</td>\n",
              "      <td>Porte-monnaie, portefeuille</td>\n",
              "      <td>Porte-monnaie / portefeuille, argent, titres</td>\n",
              "      <td>Objet trouvé</td>\n",
              "    </tr>\n",
              "    <tr>\n",
              "      <th>681246</th>\n",
              "      <td>2020-08-06T17:44:09+02:00</td>\n",
              "      <td>2020-08-06T17:44:09+02:00</td>\n",
              "      <td>Lyon Part Dieu</td>\n",
              "      <td>Sac d'enseigne (plastique, papier, …)</td>\n",
              "      <td>Bagagerie: sacs, valises, cartables</td>\n",
              "      <td>Objet trouvé</td>\n",
              "    </tr>\n",
              "    <tr>\n",
              "      <th>681258</th>\n",
              "      <td>2020-07-13T16:44:33+02:00</td>\n",
              "      <td>2020-07-13T16:44:33+02:00</td>\n",
              "      <td>Paris Gare de Lyon</td>\n",
              "      <td>Sac de voyage, sac de sport, sac à bandoulière</td>\n",
              "      <td>Bagagerie: sacs, valises, cartables</td>\n",
              "      <td>Objet trouvé</td>\n",
              "    </tr>\n",
              "    <tr>\n",
              "      <th>681299</th>\n",
              "      <td>2020-08-10T14:50:07+02:00</td>\n",
              "      <td>2020-08-10T14:50:07+02:00</td>\n",
              "      <td>Nantes</td>\n",
              "      <td>Tente</td>\n",
              "      <td>Articles de sport, loisirs, camping</td>\n",
              "      <td>Objet trouvé</td>\n",
              "    </tr>\n",
              "    <tr>\n",
              "      <th>681300</th>\n",
              "      <td>2020-08-05T16:55:07+02:00</td>\n",
              "      <td>2020-08-05T16:55:07+02:00</td>\n",
              "      <td>Paris Saint-Lazare</td>\n",
              "      <td>Carte d'identité, passeport, permis de conduire</td>\n",
              "      <td>Pièces d'identités et papiers personnels</td>\n",
              "      <td>Objet trouvé</td>\n",
              "    </tr>\n",
              "  </tbody>\n",
              "</table>\n",
              "<p>52180 rows × 6 columns</p>\n",
              "</div>"
            ],
            "text/plain": [
              "                             Date  ... Type d'enregistrement\n",
              "6523    2018-05-16T19:09:01+02:00  ...          Objet trouvé\n",
              "8604    2018-06-13T13:10:45+02:00  ...          Objet trouvé\n",
              "16881   2019-04-14T15:09:23+02:00  ...          Objet trouvé\n",
              "20737   2018-09-07T19:12:51+02:00  ...          Objet trouvé\n",
              "23152   2018-06-08T12:25:43+02:00  ...          Objet trouvé\n",
              "...                           ...  ...                   ...\n",
              "681245  2020-08-13T14:18:08+02:00  ...          Objet trouvé\n",
              "681246  2020-08-06T17:44:09+02:00  ...          Objet trouvé\n",
              "681258  2020-07-13T16:44:33+02:00  ...          Objet trouvé\n",
              "681299  2020-08-10T14:50:07+02:00  ...          Objet trouvé\n",
              "681300  2020-08-05T16:55:07+02:00  ...          Objet trouvé\n",
              "\n",
              "[52180 rows x 6 columns]"
            ]
          },
          "metadata": {
            "tags": []
          },
          "execution_count": 10
        }
      ]
    },
    {
      "cell_type": "markdown",
      "metadata": {
        "id": "UlXBjYWa1-wF",
        "colab_type": "text"
      },
      "source": [
        "52180 lignes ont été dupliqués dans notre jeu de données. Pour ne pas fausser les futures analyses, on fait donc le choix de supprimer ces lignes. "
      ]
    },
    {
      "cell_type": "code",
      "metadata": {
        "id": "ajRatvEI1-UI",
        "colab_type": "code",
        "colab": {
          "base_uri": "https://localhost:8080/",
          "height": 35
        },
        "outputId": "d1d8444d-9ec3-4f48-a743-52bd6268eef0"
      },
      "source": [
        "df = df[~duplicated]\n",
        "df.shape"
      ],
      "execution_count": 11,
      "outputs": [
        {
          "output_type": "execute_result",
          "data": {
            "text/plain": [
              "(629127, 6)"
            ]
          },
          "metadata": {
            "tags": []
          },
          "execution_count": 11
        }
      ]
    },
    {
      "cell_type": "markdown",
      "metadata": {
        "id": "PV8Sozeu3IYx",
        "colab_type": "text"
      },
      "source": [
        "Nos données dupliquées ont été supprimés, on passe à la deuxième étape : la modification de l'organisation des données avant de débuter les analyses."
      ]
    },
    {
      "cell_type": "markdown",
      "metadata": {
        "id": "lhbpNvGsAZ7f",
        "colab_type": "text"
      },
      "source": [
        "## 2. Data Wrangling"
      ]
    },
    {
      "cell_type": "markdown",
      "metadata": {
        "id": "H-KGv7Ek3ky8",
        "colab_type": "text"
      },
      "source": [
        "Pour le moment, on ne possède pas de valeurs chiffrées dans notre tableau. On ne dispose que de date/heure et de labels pour les gares et les objets perdus. La première étape va être de modifier notre tableau pour pouvoir faire des calculs."
      ]
    },
    {
      "cell_type": "markdown",
      "metadata": {
        "id": "iYkqIP9W3sfE",
        "colab_type": "text"
      },
      "source": [
        "La première chose que j'ai fait est de changer le type de la valeur date en type datetime et d'ajouter une colonne année pour travailler uniquement sur les années. Il s'agit d'un choix, il est possible de travailler par mois-année par exemple si on s'intéresse à la période de l'année où les gens oublient plus d'affaires."
      ]
    },
    {
      "cell_type": "code",
      "metadata": {
        "id": "PMQFbBdoBfQc",
        "colab_type": "code",
        "colab": {
          "base_uri": "https://localhost:8080/",
          "height": 206
        },
        "outputId": "85963e30-57fb-4603-9c43-d9b203d6d07d"
      },
      "source": [
        "df['Date'] = pd.to_datetime(df['Date'])\n",
        "df['Année'] = df['Date'].apply(lambda x: x.strftime(\"%Y\"))\n",
        "df.head()"
      ],
      "execution_count": 12,
      "outputs": [
        {
          "output_type": "execute_result",
          "data": {
            "text/html": [
              "<div>\n",
              "<style scoped>\n",
              "    .dataframe tbody tr th:only-of-type {\n",
              "        vertical-align: middle;\n",
              "    }\n",
              "\n",
              "    .dataframe tbody tr th {\n",
              "        vertical-align: top;\n",
              "    }\n",
              "\n",
              "    .dataframe thead th {\n",
              "        text-align: right;\n",
              "    }\n",
              "</style>\n",
              "<table border=\"1\" class=\"dataframe\">\n",
              "  <thead>\n",
              "    <tr style=\"text-align: right;\">\n",
              "      <th></th>\n",
              "      <th>Date</th>\n",
              "      <th>Date et heure de restitution</th>\n",
              "      <th>Gare</th>\n",
              "      <th>Nature d'objets</th>\n",
              "      <th>Type d'objets</th>\n",
              "      <th>Type d'enregistrement</th>\n",
              "      <th>Année</th>\n",
              "    </tr>\n",
              "  </thead>\n",
              "  <tbody>\n",
              "    <tr>\n",
              "      <th>0</th>\n",
              "      <td>2018-01-23 14:33:43+01:00</td>\n",
              "      <td>2018-01-23T14:33:43+01:00</td>\n",
              "      <td>Bourges</td>\n",
              "      <td>Autres divers (préciser)</td>\n",
              "      <td>Divers</td>\n",
              "      <td>Objet trouvé</td>\n",
              "      <td>2018</td>\n",
              "    </tr>\n",
              "    <tr>\n",
              "      <th>1</th>\n",
              "      <td>2014-03-10 09:07:15+01:00</td>\n",
              "      <td>2014-03-10T09:07:15+01:00</td>\n",
              "      <td>Toulouse Matabiau</td>\n",
              "      <td>Sac de voyage, sac de sport, sac à bandoulière</td>\n",
              "      <td>Bagagerie: sacs, valises, cartables</td>\n",
              "      <td>Objet trouvé</td>\n",
              "      <td>2014</td>\n",
              "    </tr>\n",
              "    <tr>\n",
              "      <th>2</th>\n",
              "      <td>2014-02-06 08:45:32+01:00</td>\n",
              "      <td>2014-02-06T08:45:32+01:00</td>\n",
              "      <td>Toulouse Matabiau</td>\n",
              "      <td>Sac à dos</td>\n",
              "      <td>Bagagerie: sacs, valises, cartables</td>\n",
              "      <td>Objet trouvé</td>\n",
              "      <td>2014</td>\n",
              "    </tr>\n",
              "    <tr>\n",
              "      <th>3</th>\n",
              "      <td>2014-03-10 09:14:38+01:00</td>\n",
              "      <td>2014-03-10T09:14:38+01:00</td>\n",
              "      <td>Paris Est</td>\n",
              "      <td>Manteau, veste, blazer, parka, blouson, cape</td>\n",
              "      <td>Vêtements, chaussures</td>\n",
              "      <td>Objet trouvé</td>\n",
              "      <td>2014</td>\n",
              "    </tr>\n",
              "    <tr>\n",
              "      <th>4</th>\n",
              "      <td>2014-02-06 09:01:24+01:00</td>\n",
              "      <td>2014-02-06T09:01:24+01:00</td>\n",
              "      <td>Paris Est</td>\n",
              "      <td>Valise, sac sur roulettes</td>\n",
              "      <td>Bagagerie: sacs, valises, cartables</td>\n",
              "      <td>Objet trouvé</td>\n",
              "      <td>2014</td>\n",
              "    </tr>\n",
              "  </tbody>\n",
              "</table>\n",
              "</div>"
            ],
            "text/plain": [
              "                        Date  ... Année\n",
              "0  2018-01-23 14:33:43+01:00  ...  2018\n",
              "1  2014-03-10 09:07:15+01:00  ...  2014\n",
              "2  2014-02-06 08:45:32+01:00  ...  2014\n",
              "3  2014-03-10 09:14:38+01:00  ...  2014\n",
              "4  2014-02-06 09:01:24+01:00  ...  2014\n",
              "\n",
              "[5 rows x 7 columns]"
            ]
          },
          "metadata": {
            "tags": []
          },
          "execution_count": 12
        }
      ]
    },
    {
      "cell_type": "markdown",
      "metadata": {
        "id": "8Q_LM87k3_V7",
        "colab_type": "text"
      },
      "source": [
        "Une fois cette modification sur la date effectuée, on raccourcit notre tableau pour ne garder que les informations qui nous intéresse et y ajouter une valeur de 1 pour pouvoir commencer le dénombrement de nos objets."
      ]
    },
    {
      "cell_type": "code",
      "metadata": {
        "id": "Mw4q58FiXn4W",
        "colab_type": "code",
        "colab": {
          "base_uri": "https://localhost:8080/",
          "height": 206
        },
        "outputId": "82898cee-80d8-448e-a400-250f19b82a37"
      },
      "source": [
        "df = df[['Année', 'Gare', 'Nature d\\'objets','Type d\\'objets']]\n",
        "df['Nombre d\\'objets'] = 1\n",
        "df.head()"
      ],
      "execution_count": 13,
      "outputs": [
        {
          "output_type": "execute_result",
          "data": {
            "text/html": [
              "<div>\n",
              "<style scoped>\n",
              "    .dataframe tbody tr th:only-of-type {\n",
              "        vertical-align: middle;\n",
              "    }\n",
              "\n",
              "    .dataframe tbody tr th {\n",
              "        vertical-align: top;\n",
              "    }\n",
              "\n",
              "    .dataframe thead th {\n",
              "        text-align: right;\n",
              "    }\n",
              "</style>\n",
              "<table border=\"1\" class=\"dataframe\">\n",
              "  <thead>\n",
              "    <tr style=\"text-align: right;\">\n",
              "      <th></th>\n",
              "      <th>Année</th>\n",
              "      <th>Gare</th>\n",
              "      <th>Nature d'objets</th>\n",
              "      <th>Type d'objets</th>\n",
              "      <th>Nombre d'objets</th>\n",
              "    </tr>\n",
              "  </thead>\n",
              "  <tbody>\n",
              "    <tr>\n",
              "      <th>0</th>\n",
              "      <td>2018</td>\n",
              "      <td>Bourges</td>\n",
              "      <td>Autres divers (préciser)</td>\n",
              "      <td>Divers</td>\n",
              "      <td>1</td>\n",
              "    </tr>\n",
              "    <tr>\n",
              "      <th>1</th>\n",
              "      <td>2014</td>\n",
              "      <td>Toulouse Matabiau</td>\n",
              "      <td>Sac de voyage, sac de sport, sac à bandoulière</td>\n",
              "      <td>Bagagerie: sacs, valises, cartables</td>\n",
              "      <td>1</td>\n",
              "    </tr>\n",
              "    <tr>\n",
              "      <th>2</th>\n",
              "      <td>2014</td>\n",
              "      <td>Toulouse Matabiau</td>\n",
              "      <td>Sac à dos</td>\n",
              "      <td>Bagagerie: sacs, valises, cartables</td>\n",
              "      <td>1</td>\n",
              "    </tr>\n",
              "    <tr>\n",
              "      <th>3</th>\n",
              "      <td>2014</td>\n",
              "      <td>Paris Est</td>\n",
              "      <td>Manteau, veste, blazer, parka, blouson, cape</td>\n",
              "      <td>Vêtements, chaussures</td>\n",
              "      <td>1</td>\n",
              "    </tr>\n",
              "    <tr>\n",
              "      <th>4</th>\n",
              "      <td>2014</td>\n",
              "      <td>Paris Est</td>\n",
              "      <td>Valise, sac sur roulettes</td>\n",
              "      <td>Bagagerie: sacs, valises, cartables</td>\n",
              "      <td>1</td>\n",
              "    </tr>\n",
              "  </tbody>\n",
              "</table>\n",
              "</div>"
            ],
            "text/plain": [
              "  Année  ... Nombre d'objets\n",
              "0  2018  ...               1\n",
              "1  2014  ...               1\n",
              "2  2014  ...               1\n",
              "3  2014  ...               1\n",
              "4  2014  ...               1\n",
              "\n",
              "[5 rows x 5 columns]"
            ]
          },
          "metadata": {
            "tags": []
          },
          "execution_count": 13
        }
      ]
    },
    {
      "cell_type": "markdown",
      "metadata": {
        "id": "BK-fRCD84Nms",
        "colab_type": "text"
      },
      "source": [
        "On commence par faire une modification de notre tableau pour pouvoir obtenir des valeurs pour chaque objet."
      ]
    },
    {
      "cell_type": "code",
      "metadata": {
        "id": "SDYMx2Y1lCPT",
        "colab_type": "code",
        "colab": {
          "base_uri": "https://localhost:8080/",
          "height": 206
        },
        "outputId": "687136eb-30bd-4a11-adb0-68ad020650a2"
      },
      "source": [
        "df = df.groupby(['Année', 'Gare', 'Nature d\\'objets','Type d\\'objets']).sum()\n",
        "df = df.reset_index()\n",
        "df.head()"
      ],
      "execution_count": 14,
      "outputs": [
        {
          "output_type": "execute_result",
          "data": {
            "text/html": [
              "<div>\n",
              "<style scoped>\n",
              "    .dataframe tbody tr th:only-of-type {\n",
              "        vertical-align: middle;\n",
              "    }\n",
              "\n",
              "    .dataframe tbody tr th {\n",
              "        vertical-align: top;\n",
              "    }\n",
              "\n",
              "    .dataframe thead th {\n",
              "        text-align: right;\n",
              "    }\n",
              "</style>\n",
              "<table border=\"1\" class=\"dataframe\">\n",
              "  <thead>\n",
              "    <tr style=\"text-align: right;\">\n",
              "      <th></th>\n",
              "      <th>Année</th>\n",
              "      <th>Gare</th>\n",
              "      <th>Nature d'objets</th>\n",
              "      <th>Type d'objets</th>\n",
              "      <th>Nombre d'objets</th>\n",
              "    </tr>\n",
              "  </thead>\n",
              "  <tbody>\n",
              "    <tr>\n",
              "      <th>0</th>\n",
              "      <td>2013</td>\n",
              "      <td>Angers Saint-Laud</td>\n",
              "      <td>Attaché-case, serviette</td>\n",
              "      <td>Bagagerie: sacs, valises, cartables</td>\n",
              "      <td>1</td>\n",
              "    </tr>\n",
              "    <tr>\n",
              "      <th>1</th>\n",
              "      <td>2013</td>\n",
              "      <td>Angers Saint-Laud</td>\n",
              "      <td>Autre bagagerie</td>\n",
              "      <td>Bagagerie: sacs, valises, cartables</td>\n",
              "      <td>1</td>\n",
              "    </tr>\n",
              "    <tr>\n",
              "      <th>2</th>\n",
              "      <td>2013</td>\n",
              "      <td>Angers Saint-Laud</td>\n",
              "      <td>Autre bagagerie (préciser)</td>\n",
              "      <td>Bagagerie: sacs, valises, cartables</td>\n",
              "      <td>1</td>\n",
              "    </tr>\n",
              "    <tr>\n",
              "      <th>3</th>\n",
              "      <td>2013</td>\n",
              "      <td>Angers Saint-Laud</td>\n",
              "      <td>Autre pièce ou papier personnel</td>\n",
              "      <td>Pièces d'identités et papiers personnels</td>\n",
              "      <td>2</td>\n",
              "    </tr>\n",
              "    <tr>\n",
              "      <th>4</th>\n",
              "      <td>2013</td>\n",
              "      <td>Angers Saint-Laud</td>\n",
              "      <td>Autre pièce ou papier personnel (préciser)</td>\n",
              "      <td>Pièces d'identités et papiers personnels</td>\n",
              "      <td>2</td>\n",
              "    </tr>\n",
              "  </tbody>\n",
              "</table>\n",
              "</div>"
            ],
            "text/plain": [
              "  Année  ... Nombre d'objets\n",
              "0  2013  ...               1\n",
              "1  2013  ...               1\n",
              "2  2013  ...               1\n",
              "3  2013  ...               2\n",
              "4  2013  ...               2\n",
              "\n",
              "[5 rows x 5 columns]"
            ]
          },
          "metadata": {
            "tags": []
          },
          "execution_count": 14
        }
      ]
    },
    {
      "cell_type": "code",
      "metadata": {
        "id": "fTDS1Vq8WDlC",
        "colab_type": "code",
        "colab": {
          "base_uri": "https://localhost:8080/",
          "height": 424
        },
        "outputId": "31e7a70d-a091-43ab-e911-0865b3044a8f"
      },
      "source": [
        "df"
      ],
      "execution_count": 16,
      "outputs": [
        {
          "output_type": "execute_result",
          "data": {
            "text/html": [
              "<div>\n",
              "<style scoped>\n",
              "    .dataframe tbody tr th:only-of-type {\n",
              "        vertical-align: middle;\n",
              "    }\n",
              "\n",
              "    .dataframe tbody tr th {\n",
              "        vertical-align: top;\n",
              "    }\n",
              "\n",
              "    .dataframe thead th {\n",
              "        text-align: right;\n",
              "    }\n",
              "</style>\n",
              "<table border=\"1\" class=\"dataframe\">\n",
              "  <thead>\n",
              "    <tr style=\"text-align: right;\">\n",
              "      <th></th>\n",
              "      <th>Année</th>\n",
              "      <th>Gare</th>\n",
              "      <th>Nature d'objets</th>\n",
              "      <th>Type d'objets</th>\n",
              "      <th>Nombre d'objets</th>\n",
              "    </tr>\n",
              "  </thead>\n",
              "  <tbody>\n",
              "    <tr>\n",
              "      <th>0</th>\n",
              "      <td>2013</td>\n",
              "      <td>Angers Saint-Laud</td>\n",
              "      <td>Attaché-case, serviette</td>\n",
              "      <td>Bagagerie: sacs, valises, cartables</td>\n",
              "      <td>1</td>\n",
              "    </tr>\n",
              "    <tr>\n",
              "      <th>1</th>\n",
              "      <td>2013</td>\n",
              "      <td>Angers Saint-Laud</td>\n",
              "      <td>Autre bagagerie</td>\n",
              "      <td>Bagagerie: sacs, valises, cartables</td>\n",
              "      <td>1</td>\n",
              "    </tr>\n",
              "    <tr>\n",
              "      <th>2</th>\n",
              "      <td>2013</td>\n",
              "      <td>Angers Saint-Laud</td>\n",
              "      <td>Autre bagagerie (préciser)</td>\n",
              "      <td>Bagagerie: sacs, valises, cartables</td>\n",
              "      <td>1</td>\n",
              "    </tr>\n",
              "    <tr>\n",
              "      <th>3</th>\n",
              "      <td>2013</td>\n",
              "      <td>Angers Saint-Laud</td>\n",
              "      <td>Autre pièce ou papier personnel</td>\n",
              "      <td>Pièces d'identités et papiers personnels</td>\n",
              "      <td>2</td>\n",
              "    </tr>\n",
              "    <tr>\n",
              "      <th>4</th>\n",
              "      <td>2013</td>\n",
              "      <td>Angers Saint-Laud</td>\n",
              "      <td>Autre pièce ou papier personnel (préciser)</td>\n",
              "      <td>Pièces d'identités et papiers personnels</td>\n",
              "      <td>2</td>\n",
              "    </tr>\n",
              "    <tr>\n",
              "      <th>...</th>\n",
              "      <td>...</td>\n",
              "      <td>...</td>\n",
              "      <td>...</td>\n",
              "      <td>...</td>\n",
              "      <td>...</td>\n",
              "    </tr>\n",
              "    <tr>\n",
              "      <th>47596</th>\n",
              "      <td>2020</td>\n",
              "      <td>Épinal</td>\n",
              "      <td>Téléphone portable</td>\n",
              "      <td>Appareils électroniques, informatiques, appare...</td>\n",
              "      <td>2</td>\n",
              "    </tr>\n",
              "    <tr>\n",
              "      <th>47597</th>\n",
              "      <td>2020</td>\n",
              "      <td>Épinal</td>\n",
              "      <td>Valise, sac sur roulettes</td>\n",
              "      <td>Bagagerie: sacs, valises, cartables</td>\n",
              "      <td>1</td>\n",
              "    </tr>\n",
              "    <tr>\n",
              "      <th>47598</th>\n",
              "      <td>2020</td>\n",
              "      <td>Évreux Normandie</td>\n",
              "      <td>Carte de crédit</td>\n",
              "      <td>Porte-monnaie / portefeuille, argent, titres</td>\n",
              "      <td>1</td>\n",
              "    </tr>\n",
              "    <tr>\n",
              "      <th>47599</th>\n",
              "      <td>2020</td>\n",
              "      <td>Évreux Normandie</td>\n",
              "      <td>Clés, porte-clés</td>\n",
              "      <td>Clés, porte-clés, badge magnétique</td>\n",
              "      <td>1</td>\n",
              "    </tr>\n",
              "    <tr>\n",
              "      <th>47600</th>\n",
              "      <td>2020</td>\n",
              "      <td>Évreux Normandie</td>\n",
              "      <td>Valise, sac sur roulettes</td>\n",
              "      <td>Bagagerie: sacs, valises, cartables</td>\n",
              "      <td>1</td>\n",
              "    </tr>\n",
              "  </tbody>\n",
              "</table>\n",
              "<p>47601 rows × 5 columns</p>\n",
              "</div>"
            ],
            "text/plain": [
              "      Année  ... Nombre d'objets\n",
              "0      2013  ...               1\n",
              "1      2013  ...               1\n",
              "2      2013  ...               1\n",
              "3      2013  ...               2\n",
              "4      2013  ...               2\n",
              "...     ...  ...             ...\n",
              "47596  2020  ...               2\n",
              "47597  2020  ...               1\n",
              "47598  2020  ...               1\n",
              "47599  2020  ...               1\n",
              "47600  2020  ...               1\n",
              "\n",
              "[47601 rows x 5 columns]"
            ]
          },
          "metadata": {
            "tags": []
          },
          "execution_count": 16
        }
      ]
    },
    {
      "cell_type": "markdown",
      "metadata": {
        "id": "AOUxU33x5aFh",
        "colab_type": "text"
      },
      "source": [
        "On finit par enregistrer le nouveau fichier crée au format csv."
      ]
    },
    {
      "cell_type": "code",
      "metadata": {
        "id": "HAk-Qm8yr49Y",
        "colab_type": "code",
        "colab": {}
      },
      "source": [
        "df.to_csv(f'{dir}objets_trouves.csv')"
      ],
      "execution_count": 15,
      "outputs": []
    },
    {
      "cell_type": "markdown",
      "metadata": {
        "id": "KwKNoLKe5hpa",
        "colab_type": "text"
      },
      "source": [
        "## 3. Analyse exploratoire"
      ]
    },
    {
      "cell_type": "markdown",
      "metadata": {
        "id": "LuFqfG2lDl0m",
        "colab_type": "text"
      },
      "source": [
        "Maintenant que les premiers traitements ont été effectués, on va pouvoir commencer l'analyse descriptive. "
      ]
    },
    {
      "cell_type": "markdown",
      "metadata": {
        "id": "AAAosbp3DrL4",
        "colab_type": "text"
      },
      "source": [
        "### 3.1. Analyses descriptives"
      ]
    }
  ]
}