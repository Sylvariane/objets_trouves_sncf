{
  "nbformat": 4,
  "nbformat_minor": 0,
  "metadata": {
    "colab": {
      "name": "Objets trouvés.ipynb",
      "provenance": [],
      "collapsed_sections": [],
      "authorship_tag": "ABX9TyM/Hwgk4SAhtLpuMb5MCjZu",
      "include_colab_link": true
    },
    "kernelspec": {
      "name": "python3",
      "display_name": "Python 3"
    }
  },
  "cells": [
    {
      "cell_type": "markdown",
      "metadata": {
        "id": "view-in-github",
        "colab_type": "text"
      },
      "source": [
        "<a href=\"https://colab.research.google.com/github/Sylvariane/objets_trouves_sncf/blob/master/Objets_trouv%C3%A9s.ipynb\" target=\"_parent\"><img src=\"https://colab.research.google.com/assets/colab-badge.svg\" alt=\"Open In Colab\"/></a>"
      ]
    },
    {
      "cell_type": "markdown",
      "metadata": {
        "id": "EPS4jtO35Kar",
        "colab_type": "text"
      },
      "source": [
        "# Analyse des objets trouvés dans les trains"
      ]
    },
    {
      "cell_type": "markdown",
      "metadata": {
        "id": "sE7vWx1a5Ir9",
        "colab_type": "text"
      },
      "source": [
        "Lorsque l'on voyage, on peut être parfois étourdi et cela mène à des pertes d'objets. Je me suis demandée quelles sont les objets les plus oubliés dans le train. Je pense que pour certains l'oubli du portefeuille ou de la veste est chose courante et pour d'autres c'est carrément la valise. La fameuse valise qui constitue un bagage oublié et qui dans certains cas peut conduire à de longs arrêts pour vérifier qu'il n'est pas dangereux. Plongeons dans les données disponibles sur le site : www.data.sncf.com pour en savoir plus. "
      ]
    },
    {
      "cell_type": "markdown",
      "metadata": {
        "id": "zx2vHe4SaOBn",
        "colab_type": "text"
      },
      "source": [
        "## 0. Installation de l'environnement de travail"
      ]
    },
    {
      "cell_type": "markdown",
      "metadata": {
        "id": "Of53DyajaVqX",
        "colab_type": "text"
      },
      "source": [
        "Avant de commencer notre analyse, il faut débuter par la mise en place de notre environnement de travail. Je commence par me connecter à Google Drive pour pouvoir ouvrir les fichiers dont je vais avoir besoin mais aussi pour exporter ceux que je vais créer. "
      ]
    },
    {
      "cell_type": "code",
      "metadata": {
        "id": "BCudB7RN51bH",
        "colab_type": "code",
        "colab": {
          "base_uri": "https://localhost:8080/",
          "height": 35
        },
        "outputId": "2ca7dae7-36b5-466b-e9cf-f538c7b2aabe"
      },
      "source": [
        "# connexion à Google Drive pour importer le fichier\n",
        "from google.colab import drive\n",
        "drive.mount('/content/drive')\n",
        "dir= '/content/drive/My Drive/Formation Data Analyst/Projets personnels/Objets trouvés - SNCF/'"
      ],
      "execution_count": 1,
      "outputs": [
        {
          "output_type": "stream",
          "text": [
            "Drive already mounted at /content/drive; to attempt to forcibly remount, call drive.mount(\"/content/drive\", force_remount=True).\n"
          ],
          "name": "stdout"
        }
      ]
    },
    {
      "cell_type": "markdown",
      "metadata": {
        "id": "2I4OnJl4alFy",
        "colab_type": "text"
      },
      "source": [
        "Une fois la connexion avec Google Drive effectuée, j'importe les différents modules nécessaires à l'analyse en leur affectant des alias pour que cela soit plus simple de les appeler dans mes commandes Python. "
      ]
    },
    {
      "cell_type": "code",
      "metadata": {
        "id": "7OWqDhFG52j2",
        "colab_type": "code",
        "colab": {
          "base_uri": "https://localhost:8080/",
          "height": 73
        },
        "outputId": "2ec19989-5627-40d7-c84f-8d9c104b9aa7"
      },
      "source": [
        "import pandas as pd\n",
        "import numpy as np\n",
        "import datetime as dt\n",
        "\n",
        "import matplotlib.pyplot as plt\n",
        "import seaborn as sns\n",
        "\n",
        "import datetime as dt"
      ],
      "execution_count": 2,
      "outputs": [
        {
          "output_type": "stream",
          "text": [
            "/usr/local/lib/python3.6/dist-packages/statsmodels/tools/_testing.py:19: FutureWarning: pandas.util.testing is deprecated. Use the functions in the public API at pandas.testing instead.\n",
            "  import pandas.util.testing as tm\n"
          ],
          "name": "stderr"
        }
      ]
    },
    {
      "cell_type": "markdown",
      "metadata": {
        "id": "UCOMXfxCazIm",
        "colab_type": "text"
      },
      "source": [
        "Enfin, je crée un premier objet de type DataFrame df qui va contenir le fichier csv que j'ai téléchargé sur le site data.sncf.com."
      ]
    },
    {
      "cell_type": "code",
      "metadata": {
        "id": "MehkwuGM59q5",
        "colab_type": "code",
        "colab": {}
      },
      "source": [
        "path = '/content/drive/My Drive/Formation Data Analyst/Projets personnels/Objets trouvés - SNCF/objets-trouves-restitution.csv'\n",
        "df = pd.read_csv(path, sep=';')"
      ],
      "execution_count": 3,
      "outputs": []
    },
    {
      "cell_type": "markdown",
      "metadata": {
        "id": "Og68EFZA6OVl",
        "colab_type": "text"
      },
      "source": [
        "## 1. Nettoyage des données"
      ]
    },
    {
      "cell_type": "markdown",
      "metadata": {
        "id": "Q44qts5FbBAe",
        "colab_type": "text"
      },
      "source": [
        "Toute analyse débute par une partie de nettoyage des données. On affiche les premières lignes du dataFrame pour voir la manière dont il est constitué."
      ]
    },
    {
      "cell_type": "code",
      "metadata": {
        "id": "sJtQIpei6XDl",
        "colab_type": "code",
        "colab": {
          "base_uri": "https://localhost:8080/",
          "height": 275
        },
        "outputId": "4f30cc00-cb8c-4da5-df45-239bbf59240e"
      },
      "source": [
        "df.head()"
      ],
      "execution_count": 4,
      "outputs": [
        {
          "output_type": "execute_result",
          "data": {
            "text/html": [
              "<div>\n",
              "<style scoped>\n",
              "    .dataframe tbody tr th:only-of-type {\n",
              "        vertical-align: middle;\n",
              "    }\n",
              "\n",
              "    .dataframe tbody tr th {\n",
              "        vertical-align: top;\n",
              "    }\n",
              "\n",
              "    .dataframe thead th {\n",
              "        text-align: right;\n",
              "    }\n",
              "</style>\n",
              "<table border=\"1\" class=\"dataframe\">\n",
              "  <thead>\n",
              "    <tr style=\"text-align: right;\">\n",
              "      <th></th>\n",
              "      <th>Date</th>\n",
              "      <th>Date et heure de restitution</th>\n",
              "      <th>Gare</th>\n",
              "      <th>Code UIC</th>\n",
              "      <th>Nature d'objets</th>\n",
              "      <th>Type d'objets</th>\n",
              "      <th>Type d'enregistrement</th>\n",
              "    </tr>\n",
              "  </thead>\n",
              "  <tbody>\n",
              "    <tr>\n",
              "      <th>0</th>\n",
              "      <td>2018-01-23T14:33:43+01:00</td>\n",
              "      <td>NaN</td>\n",
              "      <td>Bourges</td>\n",
              "      <td>87576207.0</td>\n",
              "      <td>Autres divers (préciser)</td>\n",
              "      <td>Divers</td>\n",
              "      <td>Objet trouvé</td>\n",
              "    </tr>\n",
              "    <tr>\n",
              "      <th>1</th>\n",
              "      <td>2014-03-10T09:07:15+01:00</td>\n",
              "      <td>NaN</td>\n",
              "      <td>Toulouse Matabiau</td>\n",
              "      <td>87611004.0</td>\n",
              "      <td>Sac de voyage, sac de sport, sac à bandoulière</td>\n",
              "      <td>Bagagerie: sacs, valises, cartables</td>\n",
              "      <td>Objet trouvé</td>\n",
              "    </tr>\n",
              "    <tr>\n",
              "      <th>2</th>\n",
              "      <td>2014-02-06T08:45:32+01:00</td>\n",
              "      <td>NaN</td>\n",
              "      <td>Toulouse Matabiau</td>\n",
              "      <td>87611004.0</td>\n",
              "      <td>Sac à dos</td>\n",
              "      <td>Bagagerie: sacs, valises, cartables</td>\n",
              "      <td>Objet trouvé</td>\n",
              "    </tr>\n",
              "    <tr>\n",
              "      <th>3</th>\n",
              "      <td>2014-03-10T09:14:38+01:00</td>\n",
              "      <td>NaN</td>\n",
              "      <td>Paris Est</td>\n",
              "      <td>87113001.0</td>\n",
              "      <td>Manteau, veste, blazer, parka, blouson, cape</td>\n",
              "      <td>Vêtements, chaussures</td>\n",
              "      <td>Objet trouvé</td>\n",
              "    </tr>\n",
              "    <tr>\n",
              "      <th>4</th>\n",
              "      <td>2014-02-06T09:01:24+01:00</td>\n",
              "      <td>2014-02-07T20:55:39+01:00</td>\n",
              "      <td>Paris Est</td>\n",
              "      <td>87113001.0</td>\n",
              "      <td>Valise, sac sur roulettes</td>\n",
              "      <td>Bagagerie: sacs, valises, cartables</td>\n",
              "      <td>Objet trouvé</td>\n",
              "    </tr>\n",
              "  </tbody>\n",
              "</table>\n",
              "</div>"
            ],
            "text/plain": [
              "                        Date  ... Type d'enregistrement\n",
              "0  2018-01-23T14:33:43+01:00  ...          Objet trouvé\n",
              "1  2014-03-10T09:07:15+01:00  ...          Objet trouvé\n",
              "2  2014-02-06T08:45:32+01:00  ...          Objet trouvé\n",
              "3  2014-03-10T09:14:38+01:00  ...          Objet trouvé\n",
              "4  2014-02-06T09:01:24+01:00  ...          Objet trouvé\n",
              "\n",
              "[5 rows x 7 columns]"
            ]
          },
          "metadata": {
            "tags": []
          },
          "execution_count": 4
        }
      ]
    },
    {
      "cell_type": "code",
      "metadata": {
        "id": "p5MnEDHs250s",
        "colab_type": "code",
        "colab": {
          "base_uri": "https://localhost:8080/",
          "height": 35
        },
        "outputId": "d19de412-48e3-4202-8e55-a17e189dfea4"
      },
      "source": [
        "df.shape"
      ],
      "execution_count": 5,
      "outputs": [
        {
          "output_type": "execute_result",
          "data": {
            "text/plain": [
              "(681307, 7)"
            ]
          },
          "metadata": {
            "tags": []
          },
          "execution_count": 5
        }
      ]
    },
    {
      "cell_type": "markdown",
      "metadata": {
        "id": "1kFYnAE5hFrD",
        "colab_type": "text"
      },
      "source": [
        "On a donc les données en lien avec la date d'enregistrement de l'objet, la date et l'heure de la restitution, la gare, le code UIC associé à la Gare, la nature de l'objet, le type d'objets et le type d'enregistrement."
      ]
    },
    {
      "cell_type": "code",
      "metadata": {
        "id": "wmCqbFO98-AK",
        "colab_type": "code",
        "colab": {
          "base_uri": "https://localhost:8080/",
          "height": 162
        },
        "outputId": "af60934a-c474-4b01-d43e-ced7c991c5c7"
      },
      "source": [
        "df.isna().sum()"
      ],
      "execution_count": 6,
      "outputs": [
        {
          "output_type": "execute_result",
          "data": {
            "text/plain": [
              "Date                                 0\n",
              "Date et heure de restitution    476015\n",
              "Gare                               295\n",
              "Code UIC                           295\n",
              "Nature d'objets                      0\n",
              "Type d'objets                        0\n",
              "Type d'enregistrement                0\n",
              "dtype: int64"
            ]
          },
          "metadata": {
            "tags": []
          },
          "execution_count": 6
        }
      ]
    },
    {
      "cell_type": "markdown",
      "metadata": {
        "id": "XoONLfgk85bL",
        "colab_type": "text"
      },
      "source": [
        "On observe qu'il y 476015 données manquantes concernant les dates et heure de restitution des objets mais en réalité, il s'agit d'objet qui n'ont pas été récupéré. Il manque aussi 295 données sur la gare où se trouve l'objet et le code UIC. Le code UIC est lié à la gare, il s'agit du code d'identification de la gare. Le choix de supprimer le code UIC a été fait."
      ]
    },
    {
      "cell_type": "code",
      "metadata": {
        "id": "6sMUR66iYICj",
        "colab_type": "code",
        "colab": {}
      },
      "source": [
        "df = df.drop(columns='Code UIC')"
      ],
      "execution_count": 7,
      "outputs": []
    },
    {
      "cell_type": "markdown",
      "metadata": {
        "id": "7Dn5Vw-h0d1X",
        "colab_type": "text"
      },
      "source": [
        "Concernant les données où il n'y avait pas de date de restitution, j'ai remplacé la valeur NaN par Non."
      ]
    },
    {
      "cell_type": "code",
      "metadata": {
        "id": "N05K6jaghe7B",
        "colab_type": "code",
        "colab": {
          "base_uri": "https://localhost:8080/",
          "height": 206
        },
        "outputId": "d4bc62aa-96ea-4b99-e56e-6bbd034df957"
      },
      "source": [
        "df['Date et heure de restitution'] = df.replace(np.nan, 'Non')\n",
        "df.head()"
      ],
      "execution_count": 8,
      "outputs": [
        {
          "output_type": "execute_result",
          "data": {
            "text/html": [
              "<div>\n",
              "<style scoped>\n",
              "    .dataframe tbody tr th:only-of-type {\n",
              "        vertical-align: middle;\n",
              "    }\n",
              "\n",
              "    .dataframe tbody tr th {\n",
              "        vertical-align: top;\n",
              "    }\n",
              "\n",
              "    .dataframe thead th {\n",
              "        text-align: right;\n",
              "    }\n",
              "</style>\n",
              "<table border=\"1\" class=\"dataframe\">\n",
              "  <thead>\n",
              "    <tr style=\"text-align: right;\">\n",
              "      <th></th>\n",
              "      <th>Date</th>\n",
              "      <th>Date et heure de restitution</th>\n",
              "      <th>Gare</th>\n",
              "      <th>Nature d'objets</th>\n",
              "      <th>Type d'objets</th>\n",
              "      <th>Type d'enregistrement</th>\n",
              "    </tr>\n",
              "  </thead>\n",
              "  <tbody>\n",
              "    <tr>\n",
              "      <th>0</th>\n",
              "      <td>2018-01-23T14:33:43+01:00</td>\n",
              "      <td>2018-01-23T14:33:43+01:00</td>\n",
              "      <td>Bourges</td>\n",
              "      <td>Autres divers (préciser)</td>\n",
              "      <td>Divers</td>\n",
              "      <td>Objet trouvé</td>\n",
              "    </tr>\n",
              "    <tr>\n",
              "      <th>1</th>\n",
              "      <td>2014-03-10T09:07:15+01:00</td>\n",
              "      <td>2014-03-10T09:07:15+01:00</td>\n",
              "      <td>Toulouse Matabiau</td>\n",
              "      <td>Sac de voyage, sac de sport, sac à bandoulière</td>\n",
              "      <td>Bagagerie: sacs, valises, cartables</td>\n",
              "      <td>Objet trouvé</td>\n",
              "    </tr>\n",
              "    <tr>\n",
              "      <th>2</th>\n",
              "      <td>2014-02-06T08:45:32+01:00</td>\n",
              "      <td>2014-02-06T08:45:32+01:00</td>\n",
              "      <td>Toulouse Matabiau</td>\n",
              "      <td>Sac à dos</td>\n",
              "      <td>Bagagerie: sacs, valises, cartables</td>\n",
              "      <td>Objet trouvé</td>\n",
              "    </tr>\n",
              "    <tr>\n",
              "      <th>3</th>\n",
              "      <td>2014-03-10T09:14:38+01:00</td>\n",
              "      <td>2014-03-10T09:14:38+01:00</td>\n",
              "      <td>Paris Est</td>\n",
              "      <td>Manteau, veste, blazer, parka, blouson, cape</td>\n",
              "      <td>Vêtements, chaussures</td>\n",
              "      <td>Objet trouvé</td>\n",
              "    </tr>\n",
              "    <tr>\n",
              "      <th>4</th>\n",
              "      <td>2014-02-06T09:01:24+01:00</td>\n",
              "      <td>2014-02-06T09:01:24+01:00</td>\n",
              "      <td>Paris Est</td>\n",
              "      <td>Valise, sac sur roulettes</td>\n",
              "      <td>Bagagerie: sacs, valises, cartables</td>\n",
              "      <td>Objet trouvé</td>\n",
              "    </tr>\n",
              "  </tbody>\n",
              "</table>\n",
              "</div>"
            ],
            "text/plain": [
              "                        Date  ... Type d'enregistrement\n",
              "0  2018-01-23T14:33:43+01:00  ...          Objet trouvé\n",
              "1  2014-03-10T09:07:15+01:00  ...          Objet trouvé\n",
              "2  2014-02-06T08:45:32+01:00  ...          Objet trouvé\n",
              "3  2014-03-10T09:14:38+01:00  ...          Objet trouvé\n",
              "4  2014-02-06T09:01:24+01:00  ...          Objet trouvé\n",
              "\n",
              "[5 rows x 6 columns]"
            ]
          },
          "metadata": {
            "tags": []
          },
          "execution_count": 8
        }
      ]
    },
    {
      "cell_type": "markdown",
      "metadata": {
        "id": "RN948tid1yXa",
        "colab_type": "text"
      },
      "source": [
        "Après l'inspection visuelle des premières lignes, il faut chercher des informations sur les données dupliquées dans notre jeu de données."
      ]
    },
    {
      "cell_type": "code",
      "metadata": {
        "id": "_ve5eZ7z9hje",
        "colab_type": "code",
        "colab": {
          "base_uri": "https://localhost:8080/",
          "height": 580
        },
        "outputId": "bed67840-e497-40d8-bbb1-ef1aea99895e"
      },
      "source": [
        "duplicated = df.duplicated()\n",
        "df[duplicated]"
      ],
      "execution_count": 9,
      "outputs": [
        {
          "output_type": "execute_result",
          "data": {
            "text/html": [
              "<div>\n",
              "<style scoped>\n",
              "    .dataframe tbody tr th:only-of-type {\n",
              "        vertical-align: middle;\n",
              "    }\n",
              "\n",
              "    .dataframe tbody tr th {\n",
              "        vertical-align: top;\n",
              "    }\n",
              "\n",
              "    .dataframe thead th {\n",
              "        text-align: right;\n",
              "    }\n",
              "</style>\n",
              "<table border=\"1\" class=\"dataframe\">\n",
              "  <thead>\n",
              "    <tr style=\"text-align: right;\">\n",
              "      <th></th>\n",
              "      <th>Date</th>\n",
              "      <th>Date et heure de restitution</th>\n",
              "      <th>Gare</th>\n",
              "      <th>Nature d'objets</th>\n",
              "      <th>Type d'objets</th>\n",
              "      <th>Type d'enregistrement</th>\n",
              "    </tr>\n",
              "  </thead>\n",
              "  <tbody>\n",
              "    <tr>\n",
              "      <th>6523</th>\n",
              "      <td>2018-05-16T19:09:01+02:00</td>\n",
              "      <td>2018-05-16T19:09:01+02:00</td>\n",
              "      <td>Paris Montparnasse</td>\n",
              "      <td>Téléphone portable protégé (étui, coque,…)</td>\n",
              "      <td>Appareils électroniques, informatiques, appare...</td>\n",
              "      <td>Objet trouvé</td>\n",
              "    </tr>\n",
              "    <tr>\n",
              "      <th>8604</th>\n",
              "      <td>2018-06-13T13:10:45+02:00</td>\n",
              "      <td>2018-06-13T13:10:45+02:00</td>\n",
              "      <td>Aéroport Charles de Gaulle 2 TGV</td>\n",
              "      <td>Pièce d'identité personnelle et autre</td>\n",
              "      <td>Pièces d'identités et papiers personnels</td>\n",
              "      <td>Objet trouvé</td>\n",
              "    </tr>\n",
              "    <tr>\n",
              "      <th>16881</th>\n",
              "      <td>2019-04-14T15:09:23+02:00</td>\n",
              "      <td>2019-04-14T15:09:23+02:00</td>\n",
              "      <td>Aéroport Charles de Gaulle 2 TGV</td>\n",
              "      <td>Valise, sac sur roulettes</td>\n",
              "      <td>Bagagerie: sacs, valises, cartables</td>\n",
              "      <td>Objet trouvé</td>\n",
              "    </tr>\n",
              "    <tr>\n",
              "      <th>20737</th>\n",
              "      <td>2018-09-07T19:12:51+02:00</td>\n",
              "      <td>2018-09-07T19:12:51+02:00</td>\n",
              "      <td>Bordeaux Saint-Jean</td>\n",
              "      <td>Manteau, veste, blazer, parka, blouson, cape</td>\n",
              "      <td>Vêtements, chaussures</td>\n",
              "      <td>Objet trouvé</td>\n",
              "    </tr>\n",
              "    <tr>\n",
              "      <th>23152</th>\n",
              "      <td>2018-06-08T12:25:43+02:00</td>\n",
              "      <td>2018-06-08T12:25:43+02:00</td>\n",
              "      <td>Marseille Saint-Charles</td>\n",
              "      <td>Téléphone portable</td>\n",
              "      <td>Appareils électroniques, informatiques, appare...</td>\n",
              "      <td>Objet trouvé</td>\n",
              "    </tr>\n",
              "    <tr>\n",
              "      <th>...</th>\n",
              "      <td>...</td>\n",
              "      <td>...</td>\n",
              "      <td>...</td>\n",
              "      <td>...</td>\n",
              "      <td>...</td>\n",
              "      <td>...</td>\n",
              "    </tr>\n",
              "    <tr>\n",
              "      <th>681245</th>\n",
              "      <td>2020-08-13T14:18:08+02:00</td>\n",
              "      <td>2020-08-13T14:18:08+02:00</td>\n",
              "      <td>Bordeaux Saint-Jean</td>\n",
              "      <td>Porte-monnaie, portefeuille</td>\n",
              "      <td>Porte-monnaie / portefeuille, argent, titres</td>\n",
              "      <td>Objet trouvé</td>\n",
              "    </tr>\n",
              "    <tr>\n",
              "      <th>681246</th>\n",
              "      <td>2020-08-06T17:44:09+02:00</td>\n",
              "      <td>2020-08-06T17:44:09+02:00</td>\n",
              "      <td>Lyon Part Dieu</td>\n",
              "      <td>Sac d'enseigne (plastique, papier, …)</td>\n",
              "      <td>Bagagerie: sacs, valises, cartables</td>\n",
              "      <td>Objet trouvé</td>\n",
              "    </tr>\n",
              "    <tr>\n",
              "      <th>681258</th>\n",
              "      <td>2020-07-13T16:44:33+02:00</td>\n",
              "      <td>2020-07-13T16:44:33+02:00</td>\n",
              "      <td>Paris Gare de Lyon</td>\n",
              "      <td>Sac de voyage, sac de sport, sac à bandoulière</td>\n",
              "      <td>Bagagerie: sacs, valises, cartables</td>\n",
              "      <td>Objet trouvé</td>\n",
              "    </tr>\n",
              "    <tr>\n",
              "      <th>681299</th>\n",
              "      <td>2020-08-10T14:50:07+02:00</td>\n",
              "      <td>2020-08-10T14:50:07+02:00</td>\n",
              "      <td>Nantes</td>\n",
              "      <td>Tente</td>\n",
              "      <td>Articles de sport, loisirs, camping</td>\n",
              "      <td>Objet trouvé</td>\n",
              "    </tr>\n",
              "    <tr>\n",
              "      <th>681300</th>\n",
              "      <td>2020-08-05T16:55:07+02:00</td>\n",
              "      <td>2020-08-05T16:55:07+02:00</td>\n",
              "      <td>Paris Saint-Lazare</td>\n",
              "      <td>Carte d'identité, passeport, permis de conduire</td>\n",
              "      <td>Pièces d'identités et papiers personnels</td>\n",
              "      <td>Objet trouvé</td>\n",
              "    </tr>\n",
              "  </tbody>\n",
              "</table>\n",
              "<p>52180 rows × 6 columns</p>\n",
              "</div>"
            ],
            "text/plain": [
              "                             Date  ... Type d'enregistrement\n",
              "6523    2018-05-16T19:09:01+02:00  ...          Objet trouvé\n",
              "8604    2018-06-13T13:10:45+02:00  ...          Objet trouvé\n",
              "16881   2019-04-14T15:09:23+02:00  ...          Objet trouvé\n",
              "20737   2018-09-07T19:12:51+02:00  ...          Objet trouvé\n",
              "23152   2018-06-08T12:25:43+02:00  ...          Objet trouvé\n",
              "...                           ...  ...                   ...\n",
              "681245  2020-08-13T14:18:08+02:00  ...          Objet trouvé\n",
              "681246  2020-08-06T17:44:09+02:00  ...          Objet trouvé\n",
              "681258  2020-07-13T16:44:33+02:00  ...          Objet trouvé\n",
              "681299  2020-08-10T14:50:07+02:00  ...          Objet trouvé\n",
              "681300  2020-08-05T16:55:07+02:00  ...          Objet trouvé\n",
              "\n",
              "[52180 rows x 6 columns]"
            ]
          },
          "metadata": {
            "tags": []
          },
          "execution_count": 9
        }
      ]
    },
    {
      "cell_type": "markdown",
      "metadata": {
        "id": "UlXBjYWa1-wF",
        "colab_type": "text"
      },
      "source": [
        "52180 lignes ont été dupliqués dans notre jeu de données. Pour ne pas fausser les futures analyses, on fait donc le choix de supprimer ces lignes. "
      ]
    },
    {
      "cell_type": "code",
      "metadata": {
        "id": "ajRatvEI1-UI",
        "colab_type": "code",
        "colab": {
          "base_uri": "https://localhost:8080/",
          "height": 35
        },
        "outputId": "e62779c2-4644-4d3b-cace-2fb37a99c97d"
      },
      "source": [
        "df = df[~duplicated]\n",
        "df.shape"
      ],
      "execution_count": 10,
      "outputs": [
        {
          "output_type": "execute_result",
          "data": {
            "text/plain": [
              "(629127, 6)"
            ]
          },
          "metadata": {
            "tags": []
          },
          "execution_count": 10
        }
      ]
    },
    {
      "cell_type": "markdown",
      "metadata": {
        "id": "PV8Sozeu3IYx",
        "colab_type": "text"
      },
      "source": [
        "Nos données dupliquées ont été supprimés, on passe à la deuxième étape : la modification de l'organisation des données avant de débuter les analyses."
      ]
    },
    {
      "cell_type": "markdown",
      "metadata": {
        "id": "lhbpNvGsAZ7f",
        "colab_type": "text"
      },
      "source": [
        "## 2. Data Wrangling"
      ]
    },
    {
      "cell_type": "markdown",
      "metadata": {
        "id": "H-KGv7Ek3ky8",
        "colab_type": "text"
      },
      "source": [
        "Pour le moment, on ne possède pas de valeurs chiffrées dans notre tableau. On ne dispose que de date/heure et de labels pour les gares et les objets perdus. La première étape va être de modifier notre tableau pour pouvoir faire des calculs."
      ]
    },
    {
      "cell_type": "markdown",
      "metadata": {
        "id": "iYkqIP9W3sfE",
        "colab_type": "text"
      },
      "source": [
        "La première chose que j'ai fait est de changer le type de la valeur date en type datetime et d'ajouter une colonne année pour travailler uniquement sur les années. Il s'agit d'un choix, il est possible de travailler par mois-année par exemple si on s'intéresse à la période de l'année où les gens oublient plus d'affaires."
      ]
    },
    {
      "cell_type": "code",
      "metadata": {
        "id": "PMQFbBdoBfQc",
        "colab_type": "code",
        "colab": {
          "base_uri": "https://localhost:8080/",
          "height": 206
        },
        "outputId": "99d7f7d1-0745-4ab4-cc30-de4656148ca4"
      },
      "source": [
        "df['Date'] = pd.to_datetime(df['Date'])\n",
        "df['Année'] = df['Date'].apply(lambda x: x.strftime(\"%Y\"))\n",
        "df.head()"
      ],
      "execution_count": 11,
      "outputs": [
        {
          "output_type": "execute_result",
          "data": {
            "text/html": [
              "<div>\n",
              "<style scoped>\n",
              "    .dataframe tbody tr th:only-of-type {\n",
              "        vertical-align: middle;\n",
              "    }\n",
              "\n",
              "    .dataframe tbody tr th {\n",
              "        vertical-align: top;\n",
              "    }\n",
              "\n",
              "    .dataframe thead th {\n",
              "        text-align: right;\n",
              "    }\n",
              "</style>\n",
              "<table border=\"1\" class=\"dataframe\">\n",
              "  <thead>\n",
              "    <tr style=\"text-align: right;\">\n",
              "      <th></th>\n",
              "      <th>Date</th>\n",
              "      <th>Date et heure de restitution</th>\n",
              "      <th>Gare</th>\n",
              "      <th>Nature d'objets</th>\n",
              "      <th>Type d'objets</th>\n",
              "      <th>Type d'enregistrement</th>\n",
              "      <th>Année</th>\n",
              "    </tr>\n",
              "  </thead>\n",
              "  <tbody>\n",
              "    <tr>\n",
              "      <th>0</th>\n",
              "      <td>2018-01-23 14:33:43+01:00</td>\n",
              "      <td>2018-01-23T14:33:43+01:00</td>\n",
              "      <td>Bourges</td>\n",
              "      <td>Autres divers (préciser)</td>\n",
              "      <td>Divers</td>\n",
              "      <td>Objet trouvé</td>\n",
              "      <td>2018</td>\n",
              "    </tr>\n",
              "    <tr>\n",
              "      <th>1</th>\n",
              "      <td>2014-03-10 09:07:15+01:00</td>\n",
              "      <td>2014-03-10T09:07:15+01:00</td>\n",
              "      <td>Toulouse Matabiau</td>\n",
              "      <td>Sac de voyage, sac de sport, sac à bandoulière</td>\n",
              "      <td>Bagagerie: sacs, valises, cartables</td>\n",
              "      <td>Objet trouvé</td>\n",
              "      <td>2014</td>\n",
              "    </tr>\n",
              "    <tr>\n",
              "      <th>2</th>\n",
              "      <td>2014-02-06 08:45:32+01:00</td>\n",
              "      <td>2014-02-06T08:45:32+01:00</td>\n",
              "      <td>Toulouse Matabiau</td>\n",
              "      <td>Sac à dos</td>\n",
              "      <td>Bagagerie: sacs, valises, cartables</td>\n",
              "      <td>Objet trouvé</td>\n",
              "      <td>2014</td>\n",
              "    </tr>\n",
              "    <tr>\n",
              "      <th>3</th>\n",
              "      <td>2014-03-10 09:14:38+01:00</td>\n",
              "      <td>2014-03-10T09:14:38+01:00</td>\n",
              "      <td>Paris Est</td>\n",
              "      <td>Manteau, veste, blazer, parka, blouson, cape</td>\n",
              "      <td>Vêtements, chaussures</td>\n",
              "      <td>Objet trouvé</td>\n",
              "      <td>2014</td>\n",
              "    </tr>\n",
              "    <tr>\n",
              "      <th>4</th>\n",
              "      <td>2014-02-06 09:01:24+01:00</td>\n",
              "      <td>2014-02-06T09:01:24+01:00</td>\n",
              "      <td>Paris Est</td>\n",
              "      <td>Valise, sac sur roulettes</td>\n",
              "      <td>Bagagerie: sacs, valises, cartables</td>\n",
              "      <td>Objet trouvé</td>\n",
              "      <td>2014</td>\n",
              "    </tr>\n",
              "  </tbody>\n",
              "</table>\n",
              "</div>"
            ],
            "text/plain": [
              "                        Date  ... Année\n",
              "0  2018-01-23 14:33:43+01:00  ...  2018\n",
              "1  2014-03-10 09:07:15+01:00  ...  2014\n",
              "2  2014-02-06 08:45:32+01:00  ...  2014\n",
              "3  2014-03-10 09:14:38+01:00  ...  2014\n",
              "4  2014-02-06 09:01:24+01:00  ...  2014\n",
              "\n",
              "[5 rows x 7 columns]"
            ]
          },
          "metadata": {
            "tags": []
          },
          "execution_count": 11
        }
      ]
    },
    {
      "cell_type": "markdown",
      "metadata": {
        "id": "8Q_LM87k3_V7",
        "colab_type": "text"
      },
      "source": [
        "Une fois cette modification sur la date effectuée, on raccourcit notre tableau pour ne garder que les informations qui nous intéresse et y ajouter une valeur de 1 pour pouvoir commencer le dénombrement de nos objets."
      ]
    },
    {
      "cell_type": "code",
      "metadata": {
        "id": "Mw4q58FiXn4W",
        "colab_type": "code",
        "colab": {
          "base_uri": "https://localhost:8080/",
          "height": 206
        },
        "outputId": "74f82e46-88a5-4b5c-e9da-67770363c054"
      },
      "source": [
        "df = df[['Année', 'Gare', 'Type d\\'objets']]\n",
        "df['Nombre d\\'objets'] = 1\n",
        "df.head()"
      ],
      "execution_count": 12,
      "outputs": [
        {
          "output_type": "execute_result",
          "data": {
            "text/html": [
              "<div>\n",
              "<style scoped>\n",
              "    .dataframe tbody tr th:only-of-type {\n",
              "        vertical-align: middle;\n",
              "    }\n",
              "\n",
              "    .dataframe tbody tr th {\n",
              "        vertical-align: top;\n",
              "    }\n",
              "\n",
              "    .dataframe thead th {\n",
              "        text-align: right;\n",
              "    }\n",
              "</style>\n",
              "<table border=\"1\" class=\"dataframe\">\n",
              "  <thead>\n",
              "    <tr style=\"text-align: right;\">\n",
              "      <th></th>\n",
              "      <th>Année</th>\n",
              "      <th>Gare</th>\n",
              "      <th>Type d'objets</th>\n",
              "      <th>Nombre d'objets</th>\n",
              "    </tr>\n",
              "  </thead>\n",
              "  <tbody>\n",
              "    <tr>\n",
              "      <th>0</th>\n",
              "      <td>2018</td>\n",
              "      <td>Bourges</td>\n",
              "      <td>Divers</td>\n",
              "      <td>1</td>\n",
              "    </tr>\n",
              "    <tr>\n",
              "      <th>1</th>\n",
              "      <td>2014</td>\n",
              "      <td>Toulouse Matabiau</td>\n",
              "      <td>Bagagerie: sacs, valises, cartables</td>\n",
              "      <td>1</td>\n",
              "    </tr>\n",
              "    <tr>\n",
              "      <th>2</th>\n",
              "      <td>2014</td>\n",
              "      <td>Toulouse Matabiau</td>\n",
              "      <td>Bagagerie: sacs, valises, cartables</td>\n",
              "      <td>1</td>\n",
              "    </tr>\n",
              "    <tr>\n",
              "      <th>3</th>\n",
              "      <td>2014</td>\n",
              "      <td>Paris Est</td>\n",
              "      <td>Vêtements, chaussures</td>\n",
              "      <td>1</td>\n",
              "    </tr>\n",
              "    <tr>\n",
              "      <th>4</th>\n",
              "      <td>2014</td>\n",
              "      <td>Paris Est</td>\n",
              "      <td>Bagagerie: sacs, valises, cartables</td>\n",
              "      <td>1</td>\n",
              "    </tr>\n",
              "  </tbody>\n",
              "</table>\n",
              "</div>"
            ],
            "text/plain": [
              "  Année  ... Nombre d'objets\n",
              "0  2018  ...               1\n",
              "1  2014  ...               1\n",
              "2  2014  ...               1\n",
              "3  2014  ...               1\n",
              "4  2014  ...               1\n",
              "\n",
              "[5 rows x 4 columns]"
            ]
          },
          "metadata": {
            "tags": []
          },
          "execution_count": 12
        }
      ]
    },
    {
      "cell_type": "markdown",
      "metadata": {
        "id": "BK-fRCD84Nms",
        "colab_type": "text"
      },
      "source": [
        "On commence par faire une modification de notre tableau pour pouvoir obtenir des valeurs pour chaque objet."
      ]
    },
    {
      "cell_type": "code",
      "metadata": {
        "id": "SDYMx2Y1lCPT",
        "colab_type": "code",
        "colab": {
          "base_uri": "https://localhost:8080/",
          "height": 414
        },
        "outputId": "c0290ef6-57d8-464a-9449-e7deaff78f15"
      },
      "source": [
        "df = pd.pivot_table(df, index=['Année', 'Gare'], columns='Type d\\'objets', aggfunc=np.sum).reset_index()\n",
        "df.head()"
      ],
      "execution_count": 13,
      "outputs": [
        {
          "output_type": "execute_result",
          "data": {
            "text/html": [
              "<div>\n",
              "<style scoped>\n",
              "    .dataframe tbody tr th:only-of-type {\n",
              "        vertical-align: middle;\n",
              "    }\n",
              "\n",
              "    .dataframe tbody tr th {\n",
              "        vertical-align: top;\n",
              "    }\n",
              "\n",
              "    .dataframe thead tr th {\n",
              "        text-align: left;\n",
              "    }\n",
              "</style>\n",
              "<table border=\"1\" class=\"dataframe\">\n",
              "  <thead>\n",
              "    <tr>\n",
              "      <th></th>\n",
              "      <th>Année</th>\n",
              "      <th>Gare</th>\n",
              "      <th colspan=\"16\" halign=\"left\">Nombre d'objets</th>\n",
              "    </tr>\n",
              "    <tr>\n",
              "      <th>Type d'objets</th>\n",
              "      <th></th>\n",
              "      <th></th>\n",
              "      <th>Appareils électroniques, informatiques, appareils photo</th>\n",
              "      <th>Articles d'enfants, de puériculture</th>\n",
              "      <th>Articles de sport, loisirs, camping</th>\n",
              "      <th>Articles médicaux</th>\n",
              "      <th>Bagagerie: sacs, valises, cartables</th>\n",
              "      <th>Bijoux, montres</th>\n",
              "      <th>Clés, porte-clés, badge magnétique</th>\n",
              "      <th>Divers</th>\n",
              "      <th>Instruments de musique</th>\n",
              "      <th>Livres, articles de papéterie</th>\n",
              "      <th>Optique</th>\n",
              "      <th>Parapluies</th>\n",
              "      <th>Pièces d'identités et papiers personnels</th>\n",
              "      <th>Porte-monnaie / portefeuille, argent, titres</th>\n",
              "      <th>Vélos, trottinettes, accessoires 2 roues</th>\n",
              "      <th>Vêtements, chaussures</th>\n",
              "    </tr>\n",
              "  </thead>\n",
              "  <tbody>\n",
              "    <tr>\n",
              "      <th>0</th>\n",
              "      <td>2013</td>\n",
              "      <td>Angers Saint-Laud</td>\n",
              "      <td>7.0</td>\n",
              "      <td>NaN</td>\n",
              "      <td>NaN</td>\n",
              "      <td>NaN</td>\n",
              "      <td>6.0</td>\n",
              "      <td>NaN</td>\n",
              "      <td>NaN</td>\n",
              "      <td>NaN</td>\n",
              "      <td>2.0</td>\n",
              "      <td>NaN</td>\n",
              "      <td>4.0</td>\n",
              "      <td>NaN</td>\n",
              "      <td>26.0</td>\n",
              "      <td>15.0</td>\n",
              "      <td>1.0</td>\n",
              "      <td>1.0</td>\n",
              "    </tr>\n",
              "    <tr>\n",
              "      <th>1</th>\n",
              "      <td>2013</td>\n",
              "      <td>Angoulême</td>\n",
              "      <td>1.0</td>\n",
              "      <td>NaN</td>\n",
              "      <td>NaN</td>\n",
              "      <td>NaN</td>\n",
              "      <td>NaN</td>\n",
              "      <td>NaN</td>\n",
              "      <td>NaN</td>\n",
              "      <td>NaN</td>\n",
              "      <td>NaN</td>\n",
              "      <td>NaN</td>\n",
              "      <td>NaN</td>\n",
              "      <td>NaN</td>\n",
              "      <td>NaN</td>\n",
              "      <td>NaN</td>\n",
              "      <td>NaN</td>\n",
              "      <td>NaN</td>\n",
              "    </tr>\n",
              "    <tr>\n",
              "      <th>2</th>\n",
              "      <td>2013</td>\n",
              "      <td>Aéroport Charles de Gaulle 2 TGV</td>\n",
              "      <td>NaN</td>\n",
              "      <td>NaN</td>\n",
              "      <td>NaN</td>\n",
              "      <td>NaN</td>\n",
              "      <td>NaN</td>\n",
              "      <td>NaN</td>\n",
              "      <td>1.0</td>\n",
              "      <td>NaN</td>\n",
              "      <td>NaN</td>\n",
              "      <td>NaN</td>\n",
              "      <td>NaN</td>\n",
              "      <td>NaN</td>\n",
              "      <td>NaN</td>\n",
              "      <td>NaN</td>\n",
              "      <td>NaN</td>\n",
              "      <td>NaN</td>\n",
              "    </tr>\n",
              "    <tr>\n",
              "      <th>3</th>\n",
              "      <td>2013</td>\n",
              "      <td>Besançon Viotte</td>\n",
              "      <td>6.0</td>\n",
              "      <td>3.0</td>\n",
              "      <td>NaN</td>\n",
              "      <td>1.0</td>\n",
              "      <td>22.0</td>\n",
              "      <td>NaN</td>\n",
              "      <td>8.0</td>\n",
              "      <td>12.0</td>\n",
              "      <td>NaN</td>\n",
              "      <td>4.0</td>\n",
              "      <td>4.0</td>\n",
              "      <td>1.0</td>\n",
              "      <td>18.0</td>\n",
              "      <td>4.0</td>\n",
              "      <td>NaN</td>\n",
              "      <td>6.0</td>\n",
              "    </tr>\n",
              "    <tr>\n",
              "      <th>4</th>\n",
              "      <td>2013</td>\n",
              "      <td>Béziers</td>\n",
              "      <td>1.0</td>\n",
              "      <td>NaN</td>\n",
              "      <td>NaN</td>\n",
              "      <td>NaN</td>\n",
              "      <td>3.0</td>\n",
              "      <td>NaN</td>\n",
              "      <td>NaN</td>\n",
              "      <td>NaN</td>\n",
              "      <td>NaN</td>\n",
              "      <td>NaN</td>\n",
              "      <td>NaN</td>\n",
              "      <td>1.0</td>\n",
              "      <td>NaN</td>\n",
              "      <td>NaN</td>\n",
              "      <td>NaN</td>\n",
              "      <td>1.0</td>\n",
              "    </tr>\n",
              "  </tbody>\n",
              "</table>\n",
              "</div>"
            ],
            "text/plain": [
              "              Année  ...       Nombre d'objets\n",
              "Type d'objets        ... Vêtements, chaussures\n",
              "0              2013  ...                   1.0\n",
              "1              2013  ...                   NaN\n",
              "2              2013  ...                   NaN\n",
              "3              2013  ...                   6.0\n",
              "4              2013  ...                   1.0\n",
              "\n",
              "[5 rows x 18 columns]"
            ]
          },
          "metadata": {
            "tags": []
          },
          "execution_count": 13
        }
      ]
    },
    {
      "cell_type": "markdown",
      "metadata": {
        "id": "hthIdxaT45ID",
        "colab_type": "text"
      },
      "source": [
        "On remplace les valeurs NaN par des 0 car il s'agit tout simplement d'objets qui n'ont pas été recensé comme étant perdu dans ces gares et on force le nom des colonnes pour ne pas conserver de multi-indexation. Enfin, on calcule le total pour chaque gare pour chaque année. "
      ]
    },
    {
      "cell_type": "code",
      "metadata": {
        "id": "cYpz_sg5mbrn",
        "colab_type": "code",
        "colab": {
          "base_uri": "https://localhost:8080/",
          "height": 414
        },
        "outputId": "7540a54d-2d10-487e-9831-25edff395baa"
      },
      "source": [
        "df = df.replace(np.nan, 0)\n",
        "df = df.set_index('Année')\n",
        "df.columns = ['Gare', 'Appareils électroniques, informatiques, appareils photo', 'Articles d\\'enfants, de puériculture', 'Articles de sport, loisirs, camping', 'Articles médicaux', 'Bagagerie: sacs, valises, cartables', 'Bijoux, montres', 'Clés, porte-clés, badge magnétique', 'Divers', 'Instruments de musique', 'Livres, articles de papeterie', 'Optique', 'Parapluies', 'Pièces d\\'identités et papiers personnels', 'Porte-monnaie/portefeuille, argent, titres', 'Vélos, trottinettes, accessoires 2 roues', 'Vêtements, chaussures']\n",
        "df['Total'] = df.sum(axis=1)\n",
        "df.head()"
      ],
      "execution_count": 14,
      "outputs": [
        {
          "output_type": "execute_result",
          "data": {
            "text/html": [
              "<div>\n",
              "<style scoped>\n",
              "    .dataframe tbody tr th:only-of-type {\n",
              "        vertical-align: middle;\n",
              "    }\n",
              "\n",
              "    .dataframe tbody tr th {\n",
              "        vertical-align: top;\n",
              "    }\n",
              "\n",
              "    .dataframe thead th {\n",
              "        text-align: right;\n",
              "    }\n",
              "</style>\n",
              "<table border=\"1\" class=\"dataframe\">\n",
              "  <thead>\n",
              "    <tr style=\"text-align: right;\">\n",
              "      <th></th>\n",
              "      <th>Gare</th>\n",
              "      <th>Appareils électroniques, informatiques, appareils photo</th>\n",
              "      <th>Articles d'enfants, de puériculture</th>\n",
              "      <th>Articles de sport, loisirs, camping</th>\n",
              "      <th>Articles médicaux</th>\n",
              "      <th>Bagagerie: sacs, valises, cartables</th>\n",
              "      <th>Bijoux, montres</th>\n",
              "      <th>Clés, porte-clés, badge magnétique</th>\n",
              "      <th>Divers</th>\n",
              "      <th>Instruments de musique</th>\n",
              "      <th>Livres, articles de papeterie</th>\n",
              "      <th>Optique</th>\n",
              "      <th>Parapluies</th>\n",
              "      <th>Pièces d'identités et papiers personnels</th>\n",
              "      <th>Porte-monnaie/portefeuille, argent, titres</th>\n",
              "      <th>Vélos, trottinettes, accessoires 2 roues</th>\n",
              "      <th>Vêtements, chaussures</th>\n",
              "      <th>Total</th>\n",
              "    </tr>\n",
              "    <tr>\n",
              "      <th>Année</th>\n",
              "      <th></th>\n",
              "      <th></th>\n",
              "      <th></th>\n",
              "      <th></th>\n",
              "      <th></th>\n",
              "      <th></th>\n",
              "      <th></th>\n",
              "      <th></th>\n",
              "      <th></th>\n",
              "      <th></th>\n",
              "      <th></th>\n",
              "      <th></th>\n",
              "      <th></th>\n",
              "      <th></th>\n",
              "      <th></th>\n",
              "      <th></th>\n",
              "      <th></th>\n",
              "      <th></th>\n",
              "    </tr>\n",
              "  </thead>\n",
              "  <tbody>\n",
              "    <tr>\n",
              "      <th>2013</th>\n",
              "      <td>Angers Saint-Laud</td>\n",
              "      <td>7.0</td>\n",
              "      <td>0.0</td>\n",
              "      <td>0.0</td>\n",
              "      <td>0.0</td>\n",
              "      <td>6.0</td>\n",
              "      <td>0.0</td>\n",
              "      <td>0.0</td>\n",
              "      <td>0.0</td>\n",
              "      <td>2.0</td>\n",
              "      <td>0.0</td>\n",
              "      <td>4.0</td>\n",
              "      <td>0.0</td>\n",
              "      <td>26.0</td>\n",
              "      <td>15.0</td>\n",
              "      <td>1.0</td>\n",
              "      <td>1.0</td>\n",
              "      <td>62.0</td>\n",
              "    </tr>\n",
              "    <tr>\n",
              "      <th>2013</th>\n",
              "      <td>Angoulême</td>\n",
              "      <td>1.0</td>\n",
              "      <td>0.0</td>\n",
              "      <td>0.0</td>\n",
              "      <td>0.0</td>\n",
              "      <td>0.0</td>\n",
              "      <td>0.0</td>\n",
              "      <td>0.0</td>\n",
              "      <td>0.0</td>\n",
              "      <td>0.0</td>\n",
              "      <td>0.0</td>\n",
              "      <td>0.0</td>\n",
              "      <td>0.0</td>\n",
              "      <td>0.0</td>\n",
              "      <td>0.0</td>\n",
              "      <td>0.0</td>\n",
              "      <td>0.0</td>\n",
              "      <td>1.0</td>\n",
              "    </tr>\n",
              "    <tr>\n",
              "      <th>2013</th>\n",
              "      <td>Aéroport Charles de Gaulle 2 TGV</td>\n",
              "      <td>0.0</td>\n",
              "      <td>0.0</td>\n",
              "      <td>0.0</td>\n",
              "      <td>0.0</td>\n",
              "      <td>0.0</td>\n",
              "      <td>0.0</td>\n",
              "      <td>1.0</td>\n",
              "      <td>0.0</td>\n",
              "      <td>0.0</td>\n",
              "      <td>0.0</td>\n",
              "      <td>0.0</td>\n",
              "      <td>0.0</td>\n",
              "      <td>0.0</td>\n",
              "      <td>0.0</td>\n",
              "      <td>0.0</td>\n",
              "      <td>0.0</td>\n",
              "      <td>1.0</td>\n",
              "    </tr>\n",
              "    <tr>\n",
              "      <th>2013</th>\n",
              "      <td>Besançon Viotte</td>\n",
              "      <td>6.0</td>\n",
              "      <td>3.0</td>\n",
              "      <td>0.0</td>\n",
              "      <td>1.0</td>\n",
              "      <td>22.0</td>\n",
              "      <td>0.0</td>\n",
              "      <td>8.0</td>\n",
              "      <td>12.0</td>\n",
              "      <td>0.0</td>\n",
              "      <td>4.0</td>\n",
              "      <td>4.0</td>\n",
              "      <td>1.0</td>\n",
              "      <td>18.0</td>\n",
              "      <td>4.0</td>\n",
              "      <td>0.0</td>\n",
              "      <td>6.0</td>\n",
              "      <td>89.0</td>\n",
              "    </tr>\n",
              "    <tr>\n",
              "      <th>2013</th>\n",
              "      <td>Béziers</td>\n",
              "      <td>1.0</td>\n",
              "      <td>0.0</td>\n",
              "      <td>0.0</td>\n",
              "      <td>0.0</td>\n",
              "      <td>3.0</td>\n",
              "      <td>0.0</td>\n",
              "      <td>0.0</td>\n",
              "      <td>0.0</td>\n",
              "      <td>0.0</td>\n",
              "      <td>0.0</td>\n",
              "      <td>0.0</td>\n",
              "      <td>1.0</td>\n",
              "      <td>0.0</td>\n",
              "      <td>0.0</td>\n",
              "      <td>0.0</td>\n",
              "      <td>1.0</td>\n",
              "      <td>6.0</td>\n",
              "    </tr>\n",
              "  </tbody>\n",
              "</table>\n",
              "</div>"
            ],
            "text/plain": [
              "                                   Gare  ...  Total\n",
              "Année                                    ...       \n",
              "2013                  Angers Saint-Laud  ...   62.0\n",
              "2013                          Angoulême  ...    1.0\n",
              "2013   Aéroport Charles de Gaulle 2 TGV  ...    1.0\n",
              "2013                    Besançon Viotte  ...   89.0\n",
              "2013                            Béziers  ...    6.0\n",
              "\n",
              "[5 rows x 18 columns]"
            ]
          },
          "metadata": {
            "tags": []
          },
          "execution_count": 14
        }
      ]
    },
    {
      "cell_type": "markdown",
      "metadata": {
        "id": "AOUxU33x5aFh",
        "colab_type": "text"
      },
      "source": [
        "On finit par enregistrer le nouveau fichier crée au format csv."
      ]
    },
    {
      "cell_type": "code",
      "metadata": {
        "id": "HAk-Qm8yr49Y",
        "colab_type": "code",
        "colab": {}
      },
      "source": [
        "df.to_csv(f'{dir}objets_trouves.csv')"
      ],
      "execution_count": 15,
      "outputs": []
    },
    {
      "cell_type": "markdown",
      "metadata": {
        "id": "KwKNoLKe5hpa",
        "colab_type": "text"
      },
      "source": [
        "## 3. Analyse exploratoire"
      ]
    },
    {
      "cell_type": "markdown",
      "metadata": {
        "id": "LuFqfG2lDl0m",
        "colab_type": "text"
      },
      "source": [
        "Maintenant que les premiers traitements ont été effectués, on va pouvoir commencer l'analyse descriptive. "
      ]
    },
    {
      "cell_type": "markdown",
      "metadata": {
        "id": "AAAosbp3DrL4",
        "colab_type": "text"
      },
      "source": [
        "### 3.1. Analyses descriptives"
      ]
    },
    {
      "cell_type": "code",
      "metadata": {
        "id": "w_0MNaQrDvL3",
        "colab_type": "code",
        "colab": {
          "base_uri": "https://localhost:8080/",
          "height": 390
        },
        "outputId": "a0436bca-8973-432e-c094-63b5c5670368"
      },
      "source": [
        "df.describe()"
      ],
      "execution_count": 17,
      "outputs": [
        {
          "output_type": "execute_result",
          "data": {
            "text/html": [
              "<div>\n",
              "<style scoped>\n",
              "    .dataframe tbody tr th:only-of-type {\n",
              "        vertical-align: middle;\n",
              "    }\n",
              "\n",
              "    .dataframe tbody tr th {\n",
              "        vertical-align: top;\n",
              "    }\n",
              "\n",
              "    .dataframe thead th {\n",
              "        text-align: right;\n",
              "    }\n",
              "</style>\n",
              "<table border=\"1\" class=\"dataframe\">\n",
              "  <thead>\n",
              "    <tr style=\"text-align: right;\">\n",
              "      <th></th>\n",
              "      <th>Appareils électroniques, informatiques, appareils photo</th>\n",
              "      <th>Articles d'enfants, de puériculture</th>\n",
              "      <th>Articles de sport, loisirs, camping</th>\n",
              "      <th>Articles médicaux</th>\n",
              "      <th>Bagagerie: sacs, valises, cartables</th>\n",
              "      <th>Bijoux, montres</th>\n",
              "      <th>Clés, porte-clés, badge magnétique</th>\n",
              "      <th>Divers</th>\n",
              "      <th>Instruments de musique</th>\n",
              "      <th>Livres, articles de papeterie</th>\n",
              "      <th>Optique</th>\n",
              "      <th>Parapluies</th>\n",
              "      <th>Pièces d'identités et papiers personnels</th>\n",
              "      <th>Porte-monnaie/portefeuille, argent, titres</th>\n",
              "      <th>Vélos, trottinettes, accessoires 2 roues</th>\n",
              "      <th>Vêtements, chaussures</th>\n",
              "      <th>Total</th>\n",
              "    </tr>\n",
              "  </thead>\n",
              "  <tbody>\n",
              "    <tr>\n",
              "      <th>count</th>\n",
              "      <td>1177.000000</td>\n",
              "      <td>1177.000000</td>\n",
              "      <td>1177.000000</td>\n",
              "      <td>1177.000000</td>\n",
              "      <td>1177.000000</td>\n",
              "      <td>1177.000000</td>\n",
              "      <td>1177.000000</td>\n",
              "      <td>1177.000000</td>\n",
              "      <td>1177.000000</td>\n",
              "      <td>1177.000000</td>\n",
              "      <td>1177.000000</td>\n",
              "      <td>1177.000000</td>\n",
              "      <td>1177.000000</td>\n",
              "      <td>1177.000000</td>\n",
              "      <td>1177.000000</td>\n",
              "      <td>1177.000000</td>\n",
              "      <td>1177.000000</td>\n",
              "    </tr>\n",
              "    <tr>\n",
              "      <th>mean</th>\n",
              "      <td>77.678845</td>\n",
              "      <td>6.471538</td>\n",
              "      <td>7.584537</td>\n",
              "      <td>3.683942</td>\n",
              "      <td>154.793543</td>\n",
              "      <td>4.979609</td>\n",
              "      <td>24.624469</td>\n",
              "      <td>17.984707</td>\n",
              "      <td>1.479184</td>\n",
              "      <td>14.072218</td>\n",
              "      <td>29.069669</td>\n",
              "      <td>5.987256</td>\n",
              "      <td>49.313509</td>\n",
              "      <td>60.335599</td>\n",
              "      <td>6.316058</td>\n",
              "      <td>69.896347</td>\n",
              "      <td>534.271028</td>\n",
              "    </tr>\n",
              "    <tr>\n",
              "      <th>std</th>\n",
              "      <td>150.364004</td>\n",
              "      <td>13.937521</td>\n",
              "      <td>15.108222</td>\n",
              "      <td>9.224175</td>\n",
              "      <td>325.723035</td>\n",
              "      <td>11.633706</td>\n",
              "      <td>60.648648</td>\n",
              "      <td>42.596906</td>\n",
              "      <td>2.748800</td>\n",
              "      <td>40.761552</td>\n",
              "      <td>61.453250</td>\n",
              "      <td>15.841874</td>\n",
              "      <td>147.370165</td>\n",
              "      <td>143.353550</td>\n",
              "      <td>11.910323</td>\n",
              "      <td>147.939847</td>\n",
              "      <td>1127.167059</td>\n",
              "    </tr>\n",
              "    <tr>\n",
              "      <th>min</th>\n",
              "      <td>0.000000</td>\n",
              "      <td>0.000000</td>\n",
              "      <td>0.000000</td>\n",
              "      <td>0.000000</td>\n",
              "      <td>0.000000</td>\n",
              "      <td>0.000000</td>\n",
              "      <td>0.000000</td>\n",
              "      <td>0.000000</td>\n",
              "      <td>0.000000</td>\n",
              "      <td>0.000000</td>\n",
              "      <td>0.000000</td>\n",
              "      <td>0.000000</td>\n",
              "      <td>0.000000</td>\n",
              "      <td>0.000000</td>\n",
              "      <td>0.000000</td>\n",
              "      <td>0.000000</td>\n",
              "      <td>1.000000</td>\n",
              "    </tr>\n",
              "    <tr>\n",
              "      <th>25%</th>\n",
              "      <td>7.000000</td>\n",
              "      <td>0.000000</td>\n",
              "      <td>0.000000</td>\n",
              "      <td>0.000000</td>\n",
              "      <td>8.000000</td>\n",
              "      <td>0.000000</td>\n",
              "      <td>1.000000</td>\n",
              "      <td>0.000000</td>\n",
              "      <td>0.000000</td>\n",
              "      <td>0.000000</td>\n",
              "      <td>1.000000</td>\n",
              "      <td>0.000000</td>\n",
              "      <td>1.000000</td>\n",
              "      <td>3.000000</td>\n",
              "      <td>0.000000</td>\n",
              "      <td>1.000000</td>\n",
              "      <td>31.000000</td>\n",
              "    </tr>\n",
              "    <tr>\n",
              "      <th>50%</th>\n",
              "      <td>23.000000</td>\n",
              "      <td>1.000000</td>\n",
              "      <td>1.000000</td>\n",
              "      <td>0.000000</td>\n",
              "      <td>31.000000</td>\n",
              "      <td>1.000000</td>\n",
              "      <td>4.000000</td>\n",
              "      <td>4.000000</td>\n",
              "      <td>0.000000</td>\n",
              "      <td>1.000000</td>\n",
              "      <td>5.000000</td>\n",
              "      <td>0.000000</td>\n",
              "      <td>4.000000</td>\n",
              "      <td>12.000000</td>\n",
              "      <td>2.000000</td>\n",
              "      <td>10.000000</td>\n",
              "      <td>109.000000</td>\n",
              "    </tr>\n",
              "    <tr>\n",
              "      <th>75%</th>\n",
              "      <td>69.000000</td>\n",
              "      <td>5.000000</td>\n",
              "      <td>7.000000</td>\n",
              "      <td>3.000000</td>\n",
              "      <td>131.000000</td>\n",
              "      <td>4.000000</td>\n",
              "      <td>16.000000</td>\n",
              "      <td>14.000000</td>\n",
              "      <td>2.000000</td>\n",
              "      <td>7.000000</td>\n",
              "      <td>24.000000</td>\n",
              "      <td>3.000000</td>\n",
              "      <td>24.000000</td>\n",
              "      <td>45.000000</td>\n",
              "      <td>7.000000</td>\n",
              "      <td>56.000000</td>\n",
              "      <td>435.000000</td>\n",
              "    </tr>\n",
              "    <tr>\n",
              "      <th>max</th>\n",
              "      <td>1160.000000</td>\n",
              "      <td>129.000000</td>\n",
              "      <td>103.000000</td>\n",
              "      <td>88.000000</td>\n",
              "      <td>2503.000000</td>\n",
              "      <td>107.000000</td>\n",
              "      <td>567.000000</td>\n",
              "      <td>498.000000</td>\n",
              "      <td>22.000000</td>\n",
              "      <td>425.000000</td>\n",
              "      <td>533.000000</td>\n",
              "      <td>164.000000</td>\n",
              "      <td>1245.000000</td>\n",
              "      <td>1188.000000</td>\n",
              "      <td>106.000000</td>\n",
              "      <td>1047.000000</td>\n",
              "      <td>8463.000000</td>\n",
              "    </tr>\n",
              "  </tbody>\n",
              "</table>\n",
              "</div>"
            ],
            "text/plain": [
              "       Appareils électroniques, informatiques, appareils photo  ...        Total\n",
              "count                                        1177.000000        ...  1177.000000\n",
              "mean                                           77.678845        ...   534.271028\n",
              "std                                           150.364004        ...  1127.167059\n",
              "min                                             0.000000        ...     1.000000\n",
              "25%                                             7.000000        ...    31.000000\n",
              "50%                                            23.000000        ...   109.000000\n",
              "75%                                            69.000000        ...   435.000000\n",
              "max                                          1160.000000        ...  8463.000000\n",
              "\n",
              "[8 rows x 17 columns]"
            ]
          },
          "metadata": {
            "tags": []
          },
          "execution_count": 17
        }
      ]
    },
    {
      "cell_type": "markdown",
      "metadata": {
        "id": "3AMYN_AZD3wO",
        "colab_type": "text"
      },
      "source": [
        "On remarque que toute année confondue et toute gares confondues ce sont les objets de type 'Bagagerie : sacs, valises, cartables' qui sont le plus oublié suivi par les pièces d'identité et papiers personnels et les porte-monnaie/portefeuille, argent et titres. "
      ]
    },
    {
      "cell_type": "markdown",
      "metadata": {
        "id": "nDLHT_2EEuwd",
        "colab_type": "text"
      },
      "source": [
        "Penchons-nous sur l'année 2019."
      ]
    },
    {
      "cell_type": "code",
      "metadata": {
        "id": "Ky_Yk1WFEgrL",
        "colab_type": "code",
        "colab": {
          "base_uri": "https://localhost:8080/",
          "height": 382
        },
        "outputId": "1b9f66d7-4942-43e9-98d6-8ad8b4e14448"
      },
      "source": [
        "df = df.reset_index()\n",
        "df_2019 = df.loc[df['Année'] == '2019']\n",
        "df_2019.head()"
      ],
      "execution_count": 20,
      "outputs": [
        {
          "output_type": "execute_result",
          "data": {
            "text/html": [
              "<div>\n",
              "<style scoped>\n",
              "    .dataframe tbody tr th:only-of-type {\n",
              "        vertical-align: middle;\n",
              "    }\n",
              "\n",
              "    .dataframe tbody tr th {\n",
              "        vertical-align: top;\n",
              "    }\n",
              "\n",
              "    .dataframe thead th {\n",
              "        text-align: right;\n",
              "    }\n",
              "</style>\n",
              "<table border=\"1\" class=\"dataframe\">\n",
              "  <thead>\n",
              "    <tr style=\"text-align: right;\">\n",
              "      <th></th>\n",
              "      <th>Année</th>\n",
              "      <th>Gare</th>\n",
              "      <th>Appareils électroniques, informatiques, appareils photo</th>\n",
              "      <th>Articles d'enfants, de puériculture</th>\n",
              "      <th>Articles de sport, loisirs, camping</th>\n",
              "      <th>Articles médicaux</th>\n",
              "      <th>Bagagerie: sacs, valises, cartables</th>\n",
              "      <th>Bijoux, montres</th>\n",
              "      <th>Clés, porte-clés, badge magnétique</th>\n",
              "      <th>Divers</th>\n",
              "      <th>Instruments de musique</th>\n",
              "      <th>Livres, articles de papeterie</th>\n",
              "      <th>Optique</th>\n",
              "      <th>Parapluies</th>\n",
              "      <th>Pièces d'identités et papiers personnels</th>\n",
              "      <th>Porte-monnaie/portefeuille, argent, titres</th>\n",
              "      <th>Vélos, trottinettes, accessoires 2 roues</th>\n",
              "      <th>Vêtements, chaussures</th>\n",
              "      <th>Total</th>\n",
              "    </tr>\n",
              "  </thead>\n",
              "  <tbody>\n",
              "    <tr>\n",
              "      <th>887</th>\n",
              "      <td>2019</td>\n",
              "      <td>Agen</td>\n",
              "      <td>29.0</td>\n",
              "      <td>2.0</td>\n",
              "      <td>2.0</td>\n",
              "      <td>3.0</td>\n",
              "      <td>63.0</td>\n",
              "      <td>3.0</td>\n",
              "      <td>9.0</td>\n",
              "      <td>2.0</td>\n",
              "      <td>1.0</td>\n",
              "      <td>3.0</td>\n",
              "      <td>9.0</td>\n",
              "      <td>0.0</td>\n",
              "      <td>36.0</td>\n",
              "      <td>26.0</td>\n",
              "      <td>9.0</td>\n",
              "      <td>34.0</td>\n",
              "      <td>231.0</td>\n",
              "    </tr>\n",
              "    <tr>\n",
              "      <th>888</th>\n",
              "      <td>2019</td>\n",
              "      <td>Aix-en-Provence TGV</td>\n",
              "      <td>39.0</td>\n",
              "      <td>9.0</td>\n",
              "      <td>1.0</td>\n",
              "      <td>2.0</td>\n",
              "      <td>77.0</td>\n",
              "      <td>5.0</td>\n",
              "      <td>34.0</td>\n",
              "      <td>5.0</td>\n",
              "      <td>0.0</td>\n",
              "      <td>7.0</td>\n",
              "      <td>24.0</td>\n",
              "      <td>1.0</td>\n",
              "      <td>41.0</td>\n",
              "      <td>49.0</td>\n",
              "      <td>0.0</td>\n",
              "      <td>36.0</td>\n",
              "      <td>330.0</td>\n",
              "    </tr>\n",
              "    <tr>\n",
              "      <th>889</th>\n",
              "      <td>2019</td>\n",
              "      <td>Aix-les-Bains le Revard</td>\n",
              "      <td>7.0</td>\n",
              "      <td>0.0</td>\n",
              "      <td>0.0</td>\n",
              "      <td>0.0</td>\n",
              "      <td>3.0</td>\n",
              "      <td>2.0</td>\n",
              "      <td>3.0</td>\n",
              "      <td>0.0</td>\n",
              "      <td>0.0</td>\n",
              "      <td>0.0</td>\n",
              "      <td>0.0</td>\n",
              "      <td>0.0</td>\n",
              "      <td>3.0</td>\n",
              "      <td>11.0</td>\n",
              "      <td>3.0</td>\n",
              "      <td>1.0</td>\n",
              "      <td>33.0</td>\n",
              "    </tr>\n",
              "    <tr>\n",
              "      <th>890</th>\n",
              "      <td>2019</td>\n",
              "      <td>Ambérieu-en-Bugey</td>\n",
              "      <td>7.0</td>\n",
              "      <td>0.0</td>\n",
              "      <td>1.0</td>\n",
              "      <td>0.0</td>\n",
              "      <td>17.0</td>\n",
              "      <td>2.0</td>\n",
              "      <td>1.0</td>\n",
              "      <td>0.0</td>\n",
              "      <td>0.0</td>\n",
              "      <td>0.0</td>\n",
              "      <td>0.0</td>\n",
              "      <td>0.0</td>\n",
              "      <td>0.0</td>\n",
              "      <td>0.0</td>\n",
              "      <td>6.0</td>\n",
              "      <td>0.0</td>\n",
              "      <td>34.0</td>\n",
              "    </tr>\n",
              "    <tr>\n",
              "      <th>891</th>\n",
              "      <td>2019</td>\n",
              "      <td>Amiens</td>\n",
              "      <td>82.0</td>\n",
              "      <td>4.0</td>\n",
              "      <td>6.0</td>\n",
              "      <td>0.0</td>\n",
              "      <td>96.0</td>\n",
              "      <td>5.0</td>\n",
              "      <td>38.0</td>\n",
              "      <td>1.0</td>\n",
              "      <td>1.0</td>\n",
              "      <td>0.0</td>\n",
              "      <td>24.0</td>\n",
              "      <td>0.0</td>\n",
              "      <td>4.0</td>\n",
              "      <td>21.0</td>\n",
              "      <td>10.0</td>\n",
              "      <td>19.0</td>\n",
              "      <td>311.0</td>\n",
              "    </tr>\n",
              "  </tbody>\n",
              "</table>\n",
              "</div>"
            ],
            "text/plain": [
              "    Année                     Gare  ...  Vêtements, chaussures  Total\n",
              "887  2019                     Agen  ...                   34.0  231.0\n",
              "888  2019      Aix-en-Provence TGV  ...                   36.0  330.0\n",
              "889  2019  Aix-les-Bains le Revard  ...                    1.0   33.0\n",
              "890  2019        Ambérieu-en-Bugey  ...                    0.0   34.0\n",
              "891  2019                   Amiens  ...                   19.0  311.0\n",
              "\n",
              "[5 rows x 19 columns]"
            ]
          },
          "metadata": {
            "tags": []
          },
          "execution_count": 20
        }
      ]
    }
  ]
}